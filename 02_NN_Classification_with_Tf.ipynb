{
  "nbformat": 4,
  "nbformat_minor": 0,
  "metadata": {
    "colab": {
      "provenance": [],
      "authorship_tag": "ABX9TyOll9Srlqp8aI5l0hi5ki9q",
      "include_colab_link": true
    },
    "kernelspec": {
      "name": "python3",
      "display_name": "Python 3"
    },
    "language_info": {
      "name": "python"
    }
  },
  "cells": [
    {
      "cell_type": "markdown",
      "metadata": {
        "id": "view-in-github",
        "colab_type": "text"
      },
      "source": [
        "<a href=\"https://colab.research.google.com/github/veerkamdar007/Tensorflow_Hands-On/blob/main/02_NN_Classification_with_Tf.ipynb\" target=\"_parent\"><img src=\"https://colab.research.google.com/assets/colab-badge.svg\" alt=\"Open In Colab\"/></a>"
      ]
    },
    {
      "cell_type": "markdown",
      "source": [
        "### Introduction to NN classification with Tensorflow:\n",
        "\n",
        "Classification is where you try to classify something as one thing or the other.\n",
        "\n",
        "A few types of Classification problems are:\n",
        "\n",
        "* Binary Classification\n",
        "* Multiclass Classification\n",
        "* Multilabel Classification"
      ],
      "metadata": {
        "id": "MYiP71nbn2jX"
      }
    },
    {
      "cell_type": "markdown",
      "source": [
        "# Create data to view and fit"
      ],
      "metadata": {
        "id": "efhSTHofogOG"
      }
    },
    {
      "cell_type": "code",
      "source": [
        "from sklearn.datasets import make_circles\n",
        "import tensorflow as tf\n",
        "import numpy as np\n",
        "# Make 1000 eg.\n",
        "n_samples = 1000\n",
        "\n",
        "# Create circles\n",
        "X,y = make_circles(n_samples,\n",
        "                   noise=0.03,\n",
        "                   random_state=42)"
      ],
      "metadata": {
        "id": "8TAbDsn_onmJ"
      },
      "execution_count": null,
      "outputs": []
    },
    {
      "cell_type": "code",
      "source": [
        "X"
      ],
      "metadata": {
        "colab": {
          "base_uri": "https://localhost:8080/"
        },
        "id": "CQnenCtDpEN7",
        "outputId": "b534e75a-6cdb-425c-a79d-86a15a43702b"
      },
      "execution_count": null,
      "outputs": [
        {
          "output_type": "execute_result",
          "data": {
            "text/plain": [
              "array([[ 0.75424625,  0.23148074],\n",
              "       [-0.75615888,  0.15325888],\n",
              "       [-0.81539193,  0.17328203],\n",
              "       ...,\n",
              "       [-0.13690036, -0.81001183],\n",
              "       [ 0.67036156, -0.76750154],\n",
              "       [ 0.28105665,  0.96382443]])"
            ]
          },
          "metadata": {},
          "execution_count": 135
        }
      ]
    },
    {
      "cell_type": "code",
      "source": [
        "y[:10]"
      ],
      "metadata": {
        "colab": {
          "base_uri": "https://localhost:8080/"
        },
        "id": "JNv6khdEpFzD",
        "outputId": "ee7afadc-2d7c-4163-e675-1141db225cc9"
      },
      "execution_count": null,
      "outputs": [
        {
          "output_type": "execute_result",
          "data": {
            "text/plain": [
              "array([1, 1, 1, 1, 0, 1, 1, 1, 1, 0])"
            ]
          },
          "metadata": {},
          "execution_count": 136
        }
      ]
    },
    {
      "cell_type": "code",
      "source": [
        "import pandas as pd\n",
        "circles = pd.DataFrame({\"X0\":X[:,0],\"X1\":X[:,1],\"label\":y})\n",
        "circles.head()"
      ],
      "metadata": {
        "colab": {
          "base_uri": "https://localhost:8080/",
          "height": 206
        },
        "id": "zhH8FmFupRQy",
        "outputId": "ecd15322-4a10-4077-b668-96889fb6550b"
      },
      "execution_count": null,
      "outputs": [
        {
          "output_type": "execute_result",
          "data": {
            "text/plain": [
              "         X0        X1  label\n",
              "0  0.754246  0.231481      1\n",
              "1 -0.756159  0.153259      1\n",
              "2 -0.815392  0.173282      1\n",
              "3 -0.393731  0.692883      1\n",
              "4  0.442208 -0.896723      0"
            ],
            "text/html": [
              "\n",
              "  <div id=\"df-760d5601-2cf7-49de-8de7-c579d899f277\" class=\"colab-df-container\">\n",
              "    <div>\n",
              "<style scoped>\n",
              "    .dataframe tbody tr th:only-of-type {\n",
              "        vertical-align: middle;\n",
              "    }\n",
              "\n",
              "    .dataframe tbody tr th {\n",
              "        vertical-align: top;\n",
              "    }\n",
              "\n",
              "    .dataframe thead th {\n",
              "        text-align: right;\n",
              "    }\n",
              "</style>\n",
              "<table border=\"1\" class=\"dataframe\">\n",
              "  <thead>\n",
              "    <tr style=\"text-align: right;\">\n",
              "      <th></th>\n",
              "      <th>X0</th>\n",
              "      <th>X1</th>\n",
              "      <th>label</th>\n",
              "    </tr>\n",
              "  </thead>\n",
              "  <tbody>\n",
              "    <tr>\n",
              "      <th>0</th>\n",
              "      <td>0.754246</td>\n",
              "      <td>0.231481</td>\n",
              "      <td>1</td>\n",
              "    </tr>\n",
              "    <tr>\n",
              "      <th>1</th>\n",
              "      <td>-0.756159</td>\n",
              "      <td>0.153259</td>\n",
              "      <td>1</td>\n",
              "    </tr>\n",
              "    <tr>\n",
              "      <th>2</th>\n",
              "      <td>-0.815392</td>\n",
              "      <td>0.173282</td>\n",
              "      <td>1</td>\n",
              "    </tr>\n",
              "    <tr>\n",
              "      <th>3</th>\n",
              "      <td>-0.393731</td>\n",
              "      <td>0.692883</td>\n",
              "      <td>1</td>\n",
              "    </tr>\n",
              "    <tr>\n",
              "      <th>4</th>\n",
              "      <td>0.442208</td>\n",
              "      <td>-0.896723</td>\n",
              "      <td>0</td>\n",
              "    </tr>\n",
              "  </tbody>\n",
              "</table>\n",
              "</div>\n",
              "    <div class=\"colab-df-buttons\">\n",
              "\n",
              "  <div class=\"colab-df-container\">\n",
              "    <button class=\"colab-df-convert\" onclick=\"convertToInteractive('df-760d5601-2cf7-49de-8de7-c579d899f277')\"\n",
              "            title=\"Convert this dataframe to an interactive table.\"\n",
              "            style=\"display:none;\">\n",
              "\n",
              "  <svg xmlns=\"http://www.w3.org/2000/svg\" height=\"24px\" viewBox=\"0 -960 960 960\">\n",
              "    <path d=\"M120-120v-720h720v720H120Zm60-500h600v-160H180v160Zm220 220h160v-160H400v160Zm0 220h160v-160H400v160ZM180-400h160v-160H180v160Zm440 0h160v-160H620v160ZM180-180h160v-160H180v160Zm440 0h160v-160H620v160Z\"/>\n",
              "  </svg>\n",
              "    </button>\n",
              "\n",
              "  <style>\n",
              "    .colab-df-container {\n",
              "      display:flex;\n",
              "      gap: 12px;\n",
              "    }\n",
              "\n",
              "    .colab-df-convert {\n",
              "      background-color: #E8F0FE;\n",
              "      border: none;\n",
              "      border-radius: 50%;\n",
              "      cursor: pointer;\n",
              "      display: none;\n",
              "      fill: #1967D2;\n",
              "      height: 32px;\n",
              "      padding: 0 0 0 0;\n",
              "      width: 32px;\n",
              "    }\n",
              "\n",
              "    .colab-df-convert:hover {\n",
              "      background-color: #E2EBFA;\n",
              "      box-shadow: 0px 1px 2px rgba(60, 64, 67, 0.3), 0px 1px 3px 1px rgba(60, 64, 67, 0.15);\n",
              "      fill: #174EA6;\n",
              "    }\n",
              "\n",
              "    .colab-df-buttons div {\n",
              "      margin-bottom: 4px;\n",
              "    }\n",
              "\n",
              "    [theme=dark] .colab-df-convert {\n",
              "      background-color: #3B4455;\n",
              "      fill: #D2E3FC;\n",
              "    }\n",
              "\n",
              "    [theme=dark] .colab-df-convert:hover {\n",
              "      background-color: #434B5C;\n",
              "      box-shadow: 0px 1px 3px 1px rgba(0, 0, 0, 0.15);\n",
              "      filter: drop-shadow(0px 1px 2px rgba(0, 0, 0, 0.3));\n",
              "      fill: #FFFFFF;\n",
              "    }\n",
              "  </style>\n",
              "\n",
              "    <script>\n",
              "      const buttonEl =\n",
              "        document.querySelector('#df-760d5601-2cf7-49de-8de7-c579d899f277 button.colab-df-convert');\n",
              "      buttonEl.style.display =\n",
              "        google.colab.kernel.accessAllowed ? 'block' : 'none';\n",
              "\n",
              "      async function convertToInteractive(key) {\n",
              "        const element = document.querySelector('#df-760d5601-2cf7-49de-8de7-c579d899f277');\n",
              "        const dataTable =\n",
              "          await google.colab.kernel.invokeFunction('convertToInteractive',\n",
              "                                                    [key], {});\n",
              "        if (!dataTable) return;\n",
              "\n",
              "        const docLinkHtml = 'Like what you see? Visit the ' +\n",
              "          '<a target=\"_blank\" href=https://colab.research.google.com/notebooks/data_table.ipynb>data table notebook</a>'\n",
              "          + ' to learn more about interactive tables.';\n",
              "        element.innerHTML = '';\n",
              "        dataTable['output_type'] = 'display_data';\n",
              "        await google.colab.output.renderOutput(dataTable, element);\n",
              "        const docLink = document.createElement('div');\n",
              "        docLink.innerHTML = docLinkHtml;\n",
              "        element.appendChild(docLink);\n",
              "      }\n",
              "    </script>\n",
              "  </div>\n",
              "\n",
              "\n",
              "<div id=\"df-1ea37a61-cfba-4887-8bfa-01c21db86e37\">\n",
              "  <button class=\"colab-df-quickchart\" onclick=\"quickchart('df-1ea37a61-cfba-4887-8bfa-01c21db86e37')\"\n",
              "            title=\"Suggest charts\"\n",
              "            style=\"display:none;\">\n",
              "\n",
              "<svg xmlns=\"http://www.w3.org/2000/svg\" height=\"24px\"viewBox=\"0 0 24 24\"\n",
              "     width=\"24px\">\n",
              "    <g>\n",
              "        <path d=\"M19 3H5c-1.1 0-2 .9-2 2v14c0 1.1.9 2 2 2h14c1.1 0 2-.9 2-2V5c0-1.1-.9-2-2-2zM9 17H7v-7h2v7zm4 0h-2V7h2v10zm4 0h-2v-4h2v4z\"/>\n",
              "    </g>\n",
              "</svg>\n",
              "  </button>\n",
              "\n",
              "<style>\n",
              "  .colab-df-quickchart {\n",
              "      --bg-color: #E8F0FE;\n",
              "      --fill-color: #1967D2;\n",
              "      --hover-bg-color: #E2EBFA;\n",
              "      --hover-fill-color: #174EA6;\n",
              "      --disabled-fill-color: #AAA;\n",
              "      --disabled-bg-color: #DDD;\n",
              "  }\n",
              "\n",
              "  [theme=dark] .colab-df-quickchart {\n",
              "      --bg-color: #3B4455;\n",
              "      --fill-color: #D2E3FC;\n",
              "      --hover-bg-color: #434B5C;\n",
              "      --hover-fill-color: #FFFFFF;\n",
              "      --disabled-bg-color: #3B4455;\n",
              "      --disabled-fill-color: #666;\n",
              "  }\n",
              "\n",
              "  .colab-df-quickchart {\n",
              "    background-color: var(--bg-color);\n",
              "    border: none;\n",
              "    border-radius: 50%;\n",
              "    cursor: pointer;\n",
              "    display: none;\n",
              "    fill: var(--fill-color);\n",
              "    height: 32px;\n",
              "    padding: 0;\n",
              "    width: 32px;\n",
              "  }\n",
              "\n",
              "  .colab-df-quickchart:hover {\n",
              "    background-color: var(--hover-bg-color);\n",
              "    box-shadow: 0 1px 2px rgba(60, 64, 67, 0.3), 0 1px 3px 1px rgba(60, 64, 67, 0.15);\n",
              "    fill: var(--button-hover-fill-color);\n",
              "  }\n",
              "\n",
              "  .colab-df-quickchart-complete:disabled,\n",
              "  .colab-df-quickchart-complete:disabled:hover {\n",
              "    background-color: var(--disabled-bg-color);\n",
              "    fill: var(--disabled-fill-color);\n",
              "    box-shadow: none;\n",
              "  }\n",
              "\n",
              "  .colab-df-spinner {\n",
              "    border: 2px solid var(--fill-color);\n",
              "    border-color: transparent;\n",
              "    border-bottom-color: var(--fill-color);\n",
              "    animation:\n",
              "      spin 1s steps(1) infinite;\n",
              "  }\n",
              "\n",
              "  @keyframes spin {\n",
              "    0% {\n",
              "      border-color: transparent;\n",
              "      border-bottom-color: var(--fill-color);\n",
              "      border-left-color: var(--fill-color);\n",
              "    }\n",
              "    20% {\n",
              "      border-color: transparent;\n",
              "      border-left-color: var(--fill-color);\n",
              "      border-top-color: var(--fill-color);\n",
              "    }\n",
              "    30% {\n",
              "      border-color: transparent;\n",
              "      border-left-color: var(--fill-color);\n",
              "      border-top-color: var(--fill-color);\n",
              "      border-right-color: var(--fill-color);\n",
              "    }\n",
              "    40% {\n",
              "      border-color: transparent;\n",
              "      border-right-color: var(--fill-color);\n",
              "      border-top-color: var(--fill-color);\n",
              "    }\n",
              "    60% {\n",
              "      border-color: transparent;\n",
              "      border-right-color: var(--fill-color);\n",
              "    }\n",
              "    80% {\n",
              "      border-color: transparent;\n",
              "      border-right-color: var(--fill-color);\n",
              "      border-bottom-color: var(--fill-color);\n",
              "    }\n",
              "    90% {\n",
              "      border-color: transparent;\n",
              "      border-bottom-color: var(--fill-color);\n",
              "    }\n",
              "  }\n",
              "</style>\n",
              "\n",
              "  <script>\n",
              "    async function quickchart(key) {\n",
              "      const quickchartButtonEl =\n",
              "        document.querySelector('#' + key + ' button');\n",
              "      quickchartButtonEl.disabled = true;  // To prevent multiple clicks.\n",
              "      quickchartButtonEl.classList.add('colab-df-spinner');\n",
              "      try {\n",
              "        const charts = await google.colab.kernel.invokeFunction(\n",
              "            'suggestCharts', [key], {});\n",
              "      } catch (error) {\n",
              "        console.error('Error during call to suggestCharts:', error);\n",
              "      }\n",
              "      quickchartButtonEl.classList.remove('colab-df-spinner');\n",
              "      quickchartButtonEl.classList.add('colab-df-quickchart-complete');\n",
              "    }\n",
              "    (() => {\n",
              "      let quickchartButtonEl =\n",
              "        document.querySelector('#df-1ea37a61-cfba-4887-8bfa-01c21db86e37 button');\n",
              "      quickchartButtonEl.style.display =\n",
              "        google.colab.kernel.accessAllowed ? 'block' : 'none';\n",
              "    })();\n",
              "  </script>\n",
              "</div>\n",
              "\n",
              "    </div>\n",
              "  </div>\n"
            ],
            "application/vnd.google.colaboratory.intrinsic+json": {
              "type": "dataframe",
              "variable_name": "circles",
              "summary": "{\n  \"name\": \"circles\",\n  \"rows\": 1000,\n  \"fields\": [\n    {\n      \"column\": \"X0\",\n      \"properties\": {\n        \"dtype\": \"number\",\n        \"std\": 0.6398365674574613,\n        \"min\": -1.0595024599098635,\n        \"max\": 1.0337117525463373,\n        \"num_unique_values\": 1000,\n        \"samples\": [\n          -0.3751930206933384,\n          0.015380346701456493,\n          -0.7027835978832848\n        ],\n        \"semantic_type\": \"\",\n        \"description\": \"\"\n      }\n    },\n    {\n      \"column\": \"X1\",\n      \"properties\": {\n        \"dtype\": \"number\",\n        \"std\": 0.6411559581015384,\n        \"min\": -1.0677683182718436,\n        \"max\": 1.0360036756154805,\n        \"num_unique_values\": 1000,\n        \"samples\": [\n          0.6826597225888621,\n          0.9600260220697324,\n          -0.3147169925147762\n        ],\n        \"semantic_type\": \"\",\n        \"description\": \"\"\n      }\n    },\n    {\n      \"column\": \"label\",\n      \"properties\": {\n        \"dtype\": \"number\",\n        \"std\": 0,\n        \"min\": 0,\n        \"max\": 1,\n        \"num_unique_values\": 2,\n        \"samples\": [\n          0,\n          1\n        ],\n        \"semantic_type\": \"\",\n        \"description\": \"\"\n      }\n    }\n  ]\n}"
            }
          },
          "metadata": {},
          "execution_count": 137
        }
      ]
    },
    {
      "source": [
        "# @title X0 vs X1\n",
        "\n",
        "from matplotlib import pyplot as plt\n",
        "plt.scatter(X[:,0],X[:,1],c=y,cmap=plt.cm.RdYlBu)"
      ],
      "cell_type": "code",
      "execution_count": null,
      "outputs": [
        {
          "output_type": "execute_result",
          "data": {
            "text/plain": [
              "<matplotlib.collections.PathCollection at 0x79f2f16d98d0>"
            ]
          },
          "metadata": {},
          "execution_count": 138
        },
        {
          "output_type": "display_data",
          "data": {
            "text/plain": [
              "<Figure size 640x480 with 1 Axes>"
            ],
            "image/png": "[encoded data removed]"
          },
          "metadata": {}
        }
      ],
      "metadata": {
        "colab": {
          "base_uri": "https://localhost:8080/",
          "height": 447
        },
        "id": "4lU9FWT0yzil",
        "outputId": "a2816c26-a28f-44aa-e3eb-ba18c8f2e247"
      }
    },
    {
      "cell_type": "markdown",
      "source": [
        "###Input and Output Shapes"
      ],
      "metadata": {
        "id": "36AGAcN6zegJ"
      }
    },
    {
      "cell_type": "code",
      "source": [
        "X.shape,y.shape"
      ],
      "metadata": {
        "colab": {
          "base_uri": "https://localhost:8080/"
        },
        "id": "BJNcV32_zk0V",
        "outputId": "6486f4a7-4cae-408e-d448-d9834c53fad6"
      },
      "execution_count": null,
      "outputs": [
        {
          "output_type": "execute_result",
          "data": {
            "text/plain": [
              "((1000, 2), (1000,))"
            ]
          },
          "metadata": {},
          "execution_count": 139
        }
      ]
    },
    {
      "cell_type": "code",
      "source": [
        "len(X),len(y)"
      ],
      "metadata": {
        "colab": {
          "base_uri": "https://localhost:8080/"
        },
        "id": "jnom44JGzniW",
        "outputId": "b85256fb-01a6-4587-9ff3-81669afe37a4"
      },
      "execution_count": null,
      "outputs": [
        {
          "output_type": "execute_result",
          "data": {
            "text/plain": [
              "(1000, 1000)"
            ]
          },
          "metadata": {},
          "execution_count": 140
        }
      ]
    },
    {
      "cell_type": "code",
      "source": [
        "X[0],y[0]"
      ],
      "metadata": {
        "colab": {
          "base_uri": "https://localhost:8080/"
        },
        "id": "CIP8h-1YzthG",
        "outputId": "fbbd3af3-adec-4ea3-b805-90ac0975b53f"
      },
      "execution_count": null,
      "outputs": [
        {
          "output_type": "execute_result",
          "data": {
            "text/plain": [
              "(array([0.75424625, 0.23148074]), 1)"
            ]
          },
          "metadata": {},
          "execution_count": 141
        }
      ]
    },
    {
      "cell_type": "code",
      "source": [
        "# Create a model\n",
        "\n",
        "tf.random.set_seed(42)\n",
        "\n",
        "model_1 = tf.keras.Sequential([\n",
        "    tf.keras.layers.Dense(1)\n",
        "])\n",
        "\n",
        "\n",
        "model_1.compile(loss=tf.keras.losses.BinaryCrossentropy(),\n",
        "                optimizer = tf.keras.optimizers.SGD(),\n",
        "                metrics = [\"accuracy\"])\n",
        "\n",
        "model_1.fit(X,y,epochs=5)"
      ],
      "metadata": {
        "colab": {
          "base_uri": "https://localhost:8080/"
        },
        "id": "AymTaEsDzyXS",
        "outputId": "68cdaefd-007a-4933-bd0c-0c1a9cb52e3a"
      },
      "execution_count": null,
      "outputs": [
        {
          "output_type": "stream",
          "name": "stdout",
          "text": [
            "Epoch 1/5\n",
            "32/32 [==============================] - 1s 3ms/step - loss: 4.4091 - accuracy: 0.4610\n",
            "Epoch 2/5\n",
            "32/32 [==============================] - 0s 3ms/step - loss: 6.8197 - accuracy: 0.4880\n",
            "Epoch 3/5\n",
            "32/32 [==============================] - 0s 2ms/step - loss: 7.6246 - accuracy: 0.5000\n",
            "Epoch 4/5\n",
            "32/32 [==============================] - 0s 3ms/step - loss: 7.6246 - accuracy: 0.5000\n",
            "Epoch 5/5\n",
            "32/32 [==============================] - 0s 3ms/step - loss: 7.6246 - accuracy: 0.5000\n"
          ]
        },
        {
          "output_type": "execute_result",
          "data": {
            "text/plain": [
              "<keras.src.callbacks.History at 0x79f2f2f311b0>"
            ]
          },
          "metadata": {},
          "execution_count": 142
        }
      ]
    },
    {
      "cell_type": "markdown",
      "source": [
        "### Our model accuracy is only 50 percent from the above model,meaning that is just trail and error. Let's improve the accuracy of the model."
      ],
      "metadata": {
        "id": "DIFDZm6e1J_A"
      }
    },
    {
      "cell_type": "code",
      "source": [
        "model_1.fit(X,y,epochs=200,verbose=0)\n",
        "model_1.evaluate(X,y)"
      ],
      "metadata": {
        "colab": {
          "base_uri": "https://localhost:8080/"
        },
        "id": "tcqw7lbw1Wha",
        "outputId": "7aaf7ea4-4fd3-46a1-a746-24ecf6b53fc3"
      },
      "execution_count": null,
      "outputs": [
        {
          "output_type": "stream",
          "name": "stdout",
          "text": [
            "32/32 [==============================] - 0s 2ms/step - loss: 7.6246 - accuracy: 0.5000\n"
          ]
        },
        {
          "output_type": "execute_result",
          "data": {
            "text/plain": [
              "[7.6246185302734375, 0.5]"
            ]
          },
          "metadata": {},
          "execution_count": 143
        }
      ]
    },
    {
      "cell_type": "markdown",
      "source": [
        "### Let's add an extra layer for a higher accuracy"
      ],
      "metadata": {
        "id": "aBTLgCA6QblU"
      }
    },
    {
      "cell_type": "code",
      "source": [
        "tf.random.set_seed(42)\n",
        "\n",
        "model_2 = tf.keras.Sequential([\n",
        "    tf.keras.layers.Dense(1),\n",
        "    tf.keras.layers.Dense(1)\n",
        "\n",
        "])\n",
        "\n",
        "# Compile the model\n",
        "model_2.compile(loss=tf.keras.losses.BinaryCrossentropy(),\n",
        "                optimizer = tf.keras.optimizers.SGD(),\n",
        "                metrics = [\"accuracy\"])\n",
        "\n",
        "model_2.fit(X,y,epochs=100,verbose=0)"
      ],
      "metadata": {
        "colab": {
          "base_uri": "https://localhost:8080/"
        },
        "id": "_01iQu1dQiuh",
        "outputId": "6f825d8e-85c7-4987-8e9c-f589ad7f47db"
      },
      "execution_count": null,
      "outputs": [
        {
          "output_type": "execute_result",
          "data": {
            "text/plain": [
              "<keras.src.callbacks.History at 0x79f2f2e42c80>"
            ]
          },
          "metadata": {},
          "execution_count": 144
        }
      ]
    },
    {
      "cell_type": "code",
      "source": [
        "model_2.evaluate(X,y) # Our model is not good even when we increased layer"
      ],
      "metadata": {
        "colab": {
          "base_uri": "https://localhost:8080/"
        },
        "id": "lhv7x0X2R0G0",
        "outputId": "4e214940-4bb8-4eae-b5f3-6c59c632714e"
      },
      "execution_count": null,
      "outputs": [
        {
          "output_type": "stream",
          "name": "stdout",
          "text": [
            "32/32 [==============================] - 0s 1ms/step - loss: 0.6934 - accuracy: 0.5000\n"
          ]
        },
        {
          "output_type": "execute_result",
          "data": {
            "text/plain": [
              "[0.6934179663658142, 0.5]"
            ]
          },
          "metadata": {},
          "execution_count": 145
        }
      ]
    },
    {
      "cell_type": "code",
      "source": [
        "tf.random.set_seed(42)\n",
        "\n",
        "model_3 = tf.keras.Sequential([\n",
        "    tf.keras.layers.Dense(100),\n",
        "    tf.keras.layers.Dense(10),\n",
        "    tf.keras.layers.Dense(1)\n",
        "\n",
        "])\n",
        "\n",
        "# Compile the model\n",
        "model_3.compile(loss=tf.keras.losses.BinaryCrossentropy(),\n",
        "                optimizer = tf.keras.optimizers.Adam(),\n",
        "                metrics = [\"accuracy\"])\n",
        "\n",
        "model_3.fit(X,y,epochs=100,verbose=0)"
      ],
      "metadata": {
        "colab": {
          "base_uri": "https://localhost:8080/"
        },
        "id": "a_lKgkHFQgu_",
        "outputId": "83cb286f-0857-4eb9-9310-8c54cd5cab5b"
      },
      "execution_count": null,
      "outputs": [
        {
          "output_type": "execute_result",
          "data": {
            "text/plain": [
              "<keras.src.callbacks.History at 0x79f2f2e28640>"
            ]
          },
          "metadata": {},
          "execution_count": 146
        }
      ]
    },
    {
      "cell_type": "code",
      "source": [
        "model_3.evaluate(X,y)"
      ],
      "metadata": {
        "colab": {
          "base_uri": "https://localhost:8080/"
        },
        "id": "q3qtOxSmTLrx",
        "outputId": "076d6ba3-4a22-480c-e51f-caa49f39e7e4"
      },
      "execution_count": null,
      "outputs": [
        {
          "output_type": "stream",
          "name": "stdout",
          "text": [
            "32/32 [==============================] - 0s 2ms/step - loss: 0.7005 - accuracy: 0.5090\n"
          ]
        },
        {
          "output_type": "execute_result",
          "data": {
            "text/plain": [
              "[0.7005033493041992, 0.5090000033378601]"
            ]
          },
          "metadata": {},
          "execution_count": 147
        }
      ]
    },
    {
      "cell_type": "code",
      "source": [
        "model_3.predict(X) # Outut lies mostly around 0.5 while we want either 0 or 1"
      ],
      "metadata": {
        "colab": {
          "base_uri": "https://localhost:8080/"
        },
        "id": "SarPG7T9TcTi",
        "outputId": "82f4bfaf-9155-4f80-ada7-b716ea1f18b7"
      },
      "execution_count": null,
      "outputs": [
        {
          "output_type": "stream",
          "name": "stdout",
          "text": [
            "32/32 [==============================] - 0s 1ms/step\n"
          ]
        },
        {
          "output_type": "execute_result",
          "data": {
            "text/plain": [
              "array([[0.47674567],\n",
              "       [0.57655203],\n",
              "       [0.5818314 ],\n",
              "       [0.5833985 ],\n",
              "       [0.43161553],\n",
              "       [0.5883663 ],\n",
              "       [0.5636504 ],\n",
              "       [0.47060174],\n",
              "       [0.48000312],\n",
              "       [0.5840051 ],\n",
              "       [0.52746177],\n",
              "       [0.525782  ],\n",
              "       [0.5725057 ],\n",
              "       [0.44475394],\n",
              "       [0.43893903],\n",
              "       [0.45691997],\n",
              "       [0.5596856 ],\n",
              "       [0.4609151 ],\n",
              "       [0.5658211 ],\n",
              "       [0.5155345 ],\n",
              "       [0.49847823],\n",
              "       [0.60456485],\n",
              "       [0.4577747 ],\n",
              "       [0.48051882],\n",
              "       [0.60509604],\n",
              "       [0.5917858 ],\n",
              "       [0.55331886],\n",
              "       [0.44901294],\n",
              "       [0.45210266],\n",
              "       [0.4422198 ],\n",
              "       [0.48352402],\n",
              "       [0.5894064 ],\n",
              "       [0.5609556 ],\n",
              "       [0.4464584 ],\n",
              "       [0.45826656],\n",
              "       [0.61036474],\n",
              "       [0.58823407],\n",
              "       [0.5264647 ],\n",
              "       [0.45299327],\n",
              "       [0.50160456],\n",
              "       [0.5107324 ],\n",
              "       [0.5456043 ],\n",
              "       [0.524434  ],\n",
              "       [0.44330502],\n",
              "       [0.538486  ],\n",
              "       [0.55747527],\n",
              "       [0.43876487],\n",
              "       [0.54553455],\n",
              "       [0.42030746],\n",
              "       [0.50127554],\n",
              "       [0.5184663 ],\n",
              "       [0.46286362],\n",
              "       [0.57359636],\n",
              "       [0.51818   ],\n",
              "       [0.4688136 ],\n",
              "       [0.47405398],\n",
              "       [0.55699795],\n",
              "       [0.45569342],\n",
              "       [0.60370153],\n",
              "       [0.5145348 ],\n",
              "       [0.5335168 ],\n",
              "       [0.49089992],\n",
              "       [0.4933545 ],\n",
              "       [0.60731065],\n",
              "       [0.5453902 ],\n",
              "       [0.5892184 ],\n",
              "       [0.5782077 ],\n",
              "       [0.47508097],\n",
              "       [0.5143159 ],\n",
              "       [0.49234772],\n",
              "       [0.5574907 ],\n",
              "       [0.44070482],\n",
              "       [0.5315497 ],\n",
              "       [0.5758275 ],\n",
              "       [0.54180884],\n",
              "       [0.54834294],\n",
              "       [0.57302004],\n",
              "       [0.48173702],\n",
              "       [0.5401661 ],\n",
              "       [0.5296656 ],\n",
              "       [0.5809108 ],\n",
              "       [0.5080457 ],\n",
              "       [0.5562608 ],\n",
              "       [0.51593417],\n",
              "       [0.51394045],\n",
              "       [0.49957252],\n",
              "       [0.45544666],\n",
              "       [0.58618355],\n",
              "       [0.57155126],\n",
              "       [0.51009846],\n",
              "       [0.4473514 ],\n",
              "       [0.42652512],\n",
              "       [0.47433114],\n",
              "       [0.60496193],\n",
              "       [0.54520017],\n",
              "       [0.41966176],\n",
              "       [0.5624636 ],\n",
              "       [0.54106116],\n",
              "       [0.5104412 ],\n",
              "       [0.50419366],\n",
              "       [0.5808486 ],\n",
              "       [0.47443318],\n",
              "       [0.44289023],\n",
              "       [0.57574517],\n",
              "       [0.56791085],\n",
              "       [0.57950383],\n",
              "       [0.50300026],\n",
              "       [0.4428035 ],\n",
              "       [0.59729844],\n",
              "       [0.44900995],\n",
              "       [0.4794944 ],\n",
              "       [0.5151847 ],\n",
              "       [0.45769852],\n",
              "       [0.52001464],\n",
              "       [0.5328331 ],\n",
              "       [0.4246201 ],\n",
              "       [0.60472363],\n",
              "       [0.45114952],\n",
              "       [0.48753184],\n",
              "       [0.54153657],\n",
              "       [0.45595282],\n",
              "       [0.4242512 ],\n",
              "       [0.58839625],\n",
              "       [0.58019805],\n",
              "       [0.59747463],\n",
              "       [0.5071389 ],\n",
              "       [0.52393687],\n",
              "       [0.4274475 ],\n",
              "       [0.47240126],\n",
              "       [0.5359936 ],\n",
              "       [0.54085785],\n",
              "       [0.48441434],\n",
              "       [0.56869715],\n",
              "       [0.4556839 ],\n",
              "       [0.48075575],\n",
              "       [0.50284004],\n",
              "       [0.56907123],\n",
              "       [0.6031669 ],\n",
              "       [0.4695915 ],\n",
              "       [0.52241   ],\n",
              "       [0.4863003 ],\n",
              "       [0.580561  ],\n",
              "       [0.58420223],\n",
              "       [0.5601032 ],\n",
              "       [0.45671993],\n",
              "       [0.44518375],\n",
              "       [0.523882  ],\n",
              "       [0.58730036],\n",
              "       [0.5124022 ],\n",
              "       [0.51120126],\n",
              "       [0.5739237 ],\n",
              "       [0.5939535 ],\n",
              "       [0.45074356],\n",
              "       [0.42757052],\n",
              "       [0.4432664 ],\n",
              "       [0.4285795 ],\n",
              "       [0.5276693 ],\n",
              "       [0.58440536],\n",
              "       [0.50701034],\n",
              "       [0.45864606],\n",
              "       [0.5445016 ],\n",
              "       [0.55734456],\n",
              "       [0.5720505 ],\n",
              "       [0.5815074 ],\n",
              "       [0.4752587 ],\n",
              "       [0.58303773],\n",
              "       [0.5390362 ],\n",
              "       [0.58833987],\n",
              "       [0.5212058 ],\n",
              "       [0.527336  ],\n",
              "       [0.4683876 ],\n",
              "       [0.4353472 ],\n",
              "       [0.5601734 ],\n",
              "       [0.4543802 ],\n",
              "       [0.4324487 ],\n",
              "       [0.46725035],\n",
              "       [0.5773346 ],\n",
              "       [0.57451355],\n",
              "       [0.529107  ],\n",
              "       [0.5853601 ],\n",
              "       [0.43674588],\n",
              "       [0.5851441 ],\n",
              "       [0.45403403],\n",
              "       [0.47906524],\n",
              "       [0.49705863],\n",
              "       [0.5852722 ],\n",
              "       [0.47344226],\n",
              "       [0.46187782],\n",
              "       [0.44284362],\n",
              "       [0.5739192 ],\n",
              "       [0.44477165],\n",
              "       [0.5062224 ],\n",
              "       [0.5799692 ],\n",
              "       [0.6044082 ],\n",
              "       [0.60488176],\n",
              "       [0.4387282 ],\n",
              "       [0.4978479 ],\n",
              "       [0.605006  ],\n",
              "       [0.5531018 ],\n",
              "       [0.5232347 ],\n",
              "       [0.47058123],\n",
              "       [0.48433208],\n",
              "       [0.5877921 ],\n",
              "       [0.504669  ],\n",
              "       [0.5020449 ],\n",
              "       [0.5379688 ],\n",
              "       [0.60237914],\n",
              "       [0.4440716 ],\n",
              "       [0.44474834],\n",
              "       [0.51187813],\n",
              "       [0.51528126],\n",
              "       [0.59003335],\n",
              "       [0.44495964],\n",
              "       [0.5067716 ],\n",
              "       [0.57354164],\n",
              "       [0.49714237],\n",
              "       [0.58305466],\n",
              "       [0.584125  ],\n",
              "       [0.4498648 ],\n",
              "       [0.58179396],\n",
              "       [0.53286695],\n",
              "       [0.58073837],\n",
              "       [0.44839227],\n",
              "       [0.49198824],\n",
              "       [0.45282847],\n",
              "       [0.4466297 ],\n",
              "       [0.49321276],\n",
              "       [0.47835577],\n",
              "       [0.44817752],\n",
              "       [0.48652858],\n",
              "       [0.4899059 ],\n",
              "       [0.45793784],\n",
              "       [0.43679327],\n",
              "       [0.52400184],\n",
              "       [0.47687906],\n",
              "       [0.47490317],\n",
              "       [0.5970915 ],\n",
              "       [0.43823785],\n",
              "       [0.60943395],\n",
              "       [0.50229096],\n",
              "       [0.44976228],\n",
              "       [0.6029627 ],\n",
              "       [0.46864206],\n",
              "       [0.5353119 ],\n",
              "       [0.53645825],\n",
              "       [0.5627118 ],\n",
              "       [0.42795128],\n",
              "       [0.52333605],\n",
              "       [0.52926135],\n",
              "       [0.55007297],\n",
              "       [0.5282919 ],\n",
              "       [0.45372254],\n",
              "       [0.54508096],\n",
              "       [0.4583789 ],\n",
              "       [0.44388187],\n",
              "       [0.51326054],\n",
              "       [0.471721  ],\n",
              "       [0.44291097],\n",
              "       [0.4415658 ],\n",
              "       [0.45266074],\n",
              "       [0.5849359 ],\n",
              "       [0.43019992],\n",
              "       [0.5430672 ],\n",
              "       [0.573812  ],\n",
              "       [0.47350788],\n",
              "       [0.47027326],\n",
              "       [0.5354807 ],\n",
              "       [0.453162  ],\n",
              "       [0.56624174],\n",
              "       [0.44972396],\n",
              "       [0.43763834],\n",
              "       [0.56922036],\n",
              "       [0.45436913],\n",
              "       [0.58486384],\n",
              "       [0.47787464],\n",
              "       [0.4627506 ],\n",
              "       [0.6086673 ],\n",
              "       [0.5487043 ],\n",
              "       [0.52748466],\n",
              "       [0.5442596 ],\n",
              "       [0.52903503],\n",
              "       [0.53842914],\n",
              "       [0.5903857 ],\n",
              "       [0.5483652 ],\n",
              "       [0.60442907],\n",
              "       [0.5883099 ],\n",
              "       [0.47623664],\n",
              "       [0.42656326],\n",
              "       [0.59580153],\n",
              "       [0.44449675],\n",
              "       [0.44192004],\n",
              "       [0.5375292 ],\n",
              "       [0.45933396],\n",
              "       [0.426809  ],\n",
              "       [0.46497738],\n",
              "       [0.42636842],\n",
              "       [0.44259977],\n",
              "       [0.43058997],\n",
              "       [0.45421147],\n",
              "       [0.5972507 ],\n",
              "       [0.48878855],\n",
              "       [0.42479396],\n",
              "       [0.43802267],\n",
              "       [0.4294718 ],\n",
              "       [0.55173844],\n",
              "       [0.4422716 ],\n",
              "       [0.49159378],\n",
              "       [0.5183304 ],\n",
              "       [0.44258034],\n",
              "       [0.51487225],\n",
              "       [0.539331  ],\n",
              "       [0.4795766 ],\n",
              "       [0.5264718 ],\n",
              "       [0.58386517],\n",
              "       [0.4290377 ],\n",
              "       [0.4230851 ],\n",
              "       [0.5962997 ],\n",
              "       [0.47823918],\n",
              "       [0.5843199 ],\n",
              "       [0.6003523 ],\n",
              "       [0.52495396],\n",
              "       [0.5885561 ],\n",
              "       [0.53547657],\n",
              "       [0.5638279 ],\n",
              "       [0.5498055 ],\n",
              "       [0.4649166 ],\n",
              "       [0.4856171 ],\n",
              "       [0.43329555],\n",
              "       [0.5881792 ],\n",
              "       [0.57818145],\n",
              "       [0.58483225],\n",
              "       [0.5187566 ],\n",
              "       [0.5815509 ],\n",
              "       [0.55842215],\n",
              "       [0.4436764 ],\n",
              "       [0.51983595],\n",
              "       [0.5874601 ],\n",
              "       [0.4992692 ],\n",
              "       [0.46401078],\n",
              "       [0.48216426],\n",
              "       [0.42985398],\n",
              "       [0.43490857],\n",
              "       [0.6027539 ],\n",
              "       [0.57275844],\n",
              "       [0.4457754 ],\n",
              "       [0.42926198],\n",
              "       [0.5009122 ],\n",
              "       [0.45337743],\n",
              "       [0.5418016 ],\n",
              "       [0.44061065],\n",
              "       [0.6078233 ],\n",
              "       [0.5639114 ],\n",
              "       [0.45765042],\n",
              "       [0.5191532 ],\n",
              "       [0.5448344 ],\n",
              "       [0.58254534],\n",
              "       [0.53843474],\n",
              "       [0.42318034],\n",
              "       [0.50199723],\n",
              "       [0.58761984],\n",
              "       [0.4285282 ],\n",
              "       [0.5275278 ],\n",
              "       [0.58448684],\n",
              "       [0.4262554 ],\n",
              "       [0.5999075 ],\n",
              "       [0.47132313],\n",
              "       [0.5557834 ],\n",
              "       [0.60725445],\n",
              "       [0.4445458 ],\n",
              "       [0.47915787],\n",
              "       [0.6001557 ],\n",
              "       [0.58673173],\n",
              "       [0.58786356],\n",
              "       [0.6061003 ],\n",
              "       [0.45060217],\n",
              "       [0.5740154 ],\n",
              "       [0.4343927 ],\n",
              "       [0.52459955],\n",
              "       [0.44905716],\n",
              "       [0.5212366 ],\n",
              "       [0.58680254],\n",
              "       [0.5919596 ],\n",
              "       [0.5445262 ],\n",
              "       [0.5937761 ],\n",
              "       [0.6003026 ],\n",
              "       [0.4474705 ],\n",
              "       [0.466407  ],\n",
              "       [0.5781845 ],\n",
              "       [0.45100862],\n",
              "       [0.5567201 ],\n",
              "       [0.6069569 ],\n",
              "       [0.48461604],\n",
              "       [0.5874659 ],\n",
              "       [0.55659014],\n",
              "       [0.5313609 ],\n",
              "       [0.50555074],\n",
              "       [0.43780684],\n",
              "       [0.4260506 ],\n",
              "       [0.5681742 ],\n",
              "       [0.4571272 ],\n",
              "       [0.46368396],\n",
              "       [0.42763567],\n",
              "       [0.48842376],\n",
              "       [0.48278892],\n",
              "       [0.5542636 ],\n",
              "       [0.5857775 ],\n",
              "       [0.4462301 ],\n",
              "       [0.50108325],\n",
              "       [0.49754214],\n",
              "       [0.46031135],\n",
              "       [0.47444355],\n",
              "       [0.44341105],\n",
              "       [0.54819065],\n",
              "       [0.56857723],\n",
              "       [0.5193607 ],\n",
              "       [0.5882844 ],\n",
              "       [0.5864309 ],\n",
              "       [0.50394773],\n",
              "       [0.47354013],\n",
              "       [0.42689532],\n",
              "       [0.46395957],\n",
              "       [0.58603156],\n",
              "       [0.4338063 ],\n",
              "       [0.51853544],\n",
              "       [0.42473567],\n",
              "       [0.46396446],\n",
              "       [0.53163   ],\n",
              "       [0.5045763 ],\n",
              "       [0.5740566 ],\n",
              "       [0.5666528 ],\n",
              "       [0.5543025 ],\n",
              "       [0.46786207],\n",
              "       [0.47700697],\n",
              "       [0.4265977 ],\n",
              "       [0.55990934],\n",
              "       [0.45523995],\n",
              "       [0.6076091 ],\n",
              "       [0.46085876],\n",
              "       [0.46283793],\n",
              "       [0.5553527 ],\n",
              "       [0.59914637],\n",
              "       [0.5186401 ],\n",
              "       [0.44563943],\n",
              "       [0.5830742 ],\n",
              "       [0.49369192],\n",
              "       [0.524134  ],\n",
              "       [0.5650552 ],\n",
              "       [0.6034009 ],\n",
              "       [0.58635205],\n",
              "       [0.58491623],\n",
              "       [0.5300543 ],\n",
              "       [0.46865338],\n",
              "       [0.4393744 ],\n",
              "       [0.5997536 ],\n",
              "       [0.5829501 ],\n",
              "       [0.5725274 ],\n",
              "       [0.45869827],\n",
              "       [0.5854248 ],\n",
              "       [0.4582231 ],\n",
              "       [0.4318437 ],\n",
              "       [0.5178993 ],\n",
              "       [0.55985457],\n",
              "       [0.5383782 ],\n",
              "       [0.44521517],\n",
              "       [0.44327384],\n",
              "       [0.5562558 ],\n",
              "       [0.5652879 ],\n",
              "       [0.42879552],\n",
              "       [0.47520024],\n",
              "       [0.42488116],\n",
              "       [0.43885714],\n",
              "       [0.53664595],\n",
              "       [0.44006985],\n",
              "       [0.5363052 ],\n",
              "       [0.4904707 ],\n",
              "       [0.4519354 ],\n",
              "       [0.44485688],\n",
              "       [0.44140047],\n",
              "       [0.5500313 ],\n",
              "       [0.53943014],\n",
              "       [0.54863125],\n",
              "       [0.5428892 ],\n",
              "       [0.46204764],\n",
              "       [0.43942004],\n",
              "       [0.4851508 ],\n",
              "       [0.48291683],\n",
              "       [0.48588204],\n",
              "       [0.49769706],\n",
              "       [0.60229874],\n",
              "       [0.44096875],\n",
              "       [0.46129507],\n",
              "       [0.5437658 ],\n",
              "       [0.56764495],\n",
              "       [0.55253714],\n",
              "       [0.43071127],\n",
              "       [0.6019293 ],\n",
              "       [0.4257133 ],\n",
              "       [0.43255657],\n",
              "       [0.47368926],\n",
              "       [0.46213472],\n",
              "       [0.59258217],\n",
              "       [0.60369945],\n",
              "       [0.43806362],\n",
              "       [0.44665188],\n",
              "       [0.5377907 ],\n",
              "       [0.44439316],\n",
              "       [0.5863193 ],\n",
              "       [0.44954956],\n",
              "       [0.4467088 ],\n",
              "       [0.5709895 ],\n",
              "       [0.57667166],\n",
              "       [0.48965698],\n",
              "       [0.49634892],\n",
              "       [0.4570859 ],\n",
              "       [0.50831217],\n",
              "       [0.5620303 ],\n",
              "       [0.6038001 ],\n",
              "       [0.61168325],\n",
              "       [0.45157653],\n",
              "       [0.46594888],\n",
              "       [0.47403735],\n",
              "       [0.5815124 ],\n",
              "       [0.4809335 ],\n",
              "       [0.4920333 ],\n",
              "       [0.42781734],\n",
              "       [0.4978537 ],\n",
              "       [0.5047263 ],\n",
              "       [0.6100578 ],\n",
              "       [0.5603828 ],\n",
              "       [0.5441625 ],\n",
              "       [0.50265384],\n",
              "       [0.5156449 ],\n",
              "       [0.5627627 ],\n",
              "       [0.55420023],\n",
              "       [0.48868662],\n",
              "       [0.4280783 ],\n",
              "       [0.59619516],\n",
              "       [0.5216865 ],\n",
              "       [0.57936853],\n",
              "       [0.42566317],\n",
              "       [0.607959  ],\n",
              "       [0.56527704],\n",
              "       [0.5899072 ],\n",
              "       [0.44152564],\n",
              "       [0.56877124],\n",
              "       [0.44092017],\n",
              "       [0.4657014 ],\n",
              "       [0.5121922 ],\n",
              "       [0.5344626 ],\n",
              "       [0.5727096 ],\n",
              "       [0.56756127],\n",
              "       [0.43055028],\n",
              "       [0.58871675],\n",
              "       [0.50023025],\n",
              "       [0.47864282],\n",
              "       [0.44815958],\n",
              "       [0.46038932],\n",
              "       [0.5686993 ],\n",
              "       [0.48976457],\n",
              "       [0.48341584],\n",
              "       [0.6056293 ],\n",
              "       [0.45598423],\n",
              "       [0.504032  ],\n",
              "       [0.57792413],\n",
              "       [0.570686  ],\n",
              "       [0.4214002 ],\n",
              "       [0.58864707],\n",
              "       [0.5281365 ],\n",
              "       [0.492844  ],\n",
              "       [0.44264638],\n",
              "       [0.592647  ],\n",
              "       [0.57123476],\n",
              "       [0.544928  ],\n",
              "       [0.499381  ],\n",
              "       [0.47958815],\n",
              "       [0.44418854],\n",
              "       [0.58547425],\n",
              "       [0.4246906 ],\n",
              "       [0.43997884],\n",
              "       [0.5649441 ],\n",
              "       [0.51266694],\n",
              "       [0.4662512 ],\n",
              "       [0.5195905 ],\n",
              "       [0.54057616],\n",
              "       [0.52896076],\n",
              "       [0.43432826],\n",
              "       [0.48924702],\n",
              "       [0.5584398 ],\n",
              "       [0.48263472],\n",
              "       [0.60304487],\n",
              "       [0.5866433 ],\n",
              "       [0.5079325 ],\n",
              "       [0.58616346],\n",
              "       [0.5682312 ],\n",
              "       [0.4779334 ],\n",
              "       [0.59304047],\n",
              "       [0.54864997],\n",
              "       [0.54683363],\n",
              "       [0.51886654],\n",
              "       [0.57917756],\n",
              "       [0.4564637 ],\n",
              "       [0.576759  ],\n",
              "       [0.5099478 ],\n",
              "       [0.57782644],\n",
              "       [0.57938284],\n",
              "       [0.4463706 ],\n",
              "       [0.6074273 ],\n",
              "       [0.56579036],\n",
              "       [0.5593761 ],\n",
              "       [0.55061966],\n",
              "       [0.6011557 ],\n",
              "       [0.53384984],\n",
              "       [0.5584895 ],\n",
              "       [0.5866415 ],\n",
              "       [0.58660364],\n",
              "       [0.58960956],\n",
              "       [0.44574338],\n",
              "       [0.47055548],\n",
              "       [0.44957995],\n",
              "       [0.4839496 ],\n",
              "       [0.44913262],\n",
              "       [0.5936733 ],\n",
              "       [0.48326308],\n",
              "       [0.5993689 ],\n",
              "       [0.45993596],\n",
              "       [0.46737826],\n",
              "       [0.48853463],\n",
              "       [0.45051807],\n",
              "       [0.4414056 ],\n",
              "       [0.4710102 ],\n",
              "       [0.44513988],\n",
              "       [0.4294861 ],\n",
              "       [0.5566153 ],\n",
              "       [0.5842914 ],\n",
              "       [0.4660961 ],\n",
              "       [0.5971905 ],\n",
              "       [0.4698159 ],\n",
              "       [0.44016546],\n",
              "       [0.42316645],\n",
              "       [0.4448129 ],\n",
              "       [0.46398294],\n",
              "       [0.59867674],\n",
              "       [0.47589165],\n",
              "       [0.44366044],\n",
              "       [0.45646614],\n",
              "       [0.42327815],\n",
              "       [0.4464441 ],\n",
              "       [0.4876545 ],\n",
              "       [0.5859374 ],\n",
              "       [0.49745643],\n",
              "       [0.5997658 ],\n",
              "       [0.48933822],\n",
              "       [0.47649086],\n",
              "       [0.46224093],\n",
              "       [0.44093728],\n",
              "       [0.5049268 ],\n",
              "       [0.52769506],\n",
              "       [0.44556767],\n",
              "       [0.60160303],\n",
              "       [0.45551723],\n",
              "       [0.5920683 ],\n",
              "       [0.53594077],\n",
              "       [0.45432556],\n",
              "       [0.5686802 ],\n",
              "       [0.5609308 ],\n",
              "       [0.60387427],\n",
              "       [0.58684766],\n",
              "       [0.5488143 ],\n",
              "       [0.43354762],\n",
              "       [0.42383993],\n",
              "       [0.56858337],\n",
              "       [0.53005   ],\n",
              "       [0.55016315],\n",
              "       [0.5869344 ],\n",
              "       [0.57206935],\n",
              "       [0.4979748 ],\n",
              "       [0.59450287],\n",
              "       [0.43643486],\n",
              "       [0.43772572],\n",
              "       [0.6024418 ],\n",
              "       [0.5779674 ],\n",
              "       [0.49596232],\n",
              "       [0.5634451 ],\n",
              "       [0.45343286],\n",
              "       [0.5266219 ],\n",
              "       [0.47363657],\n",
              "       [0.42312008],\n",
              "       [0.5823248 ],\n",
              "       [0.58306265],\n",
              "       [0.53097576],\n",
              "       [0.57149464],\n",
              "       [0.5163661 ],\n",
              "       [0.5646933 ],\n",
              "       [0.58230734],\n",
              "       [0.45906258],\n",
              "       [0.57761264],\n",
              "       [0.5494849 ],\n",
              "       [0.54043275],\n",
              "       [0.4318242 ],\n",
              "       [0.5943145 ],\n",
              "       [0.5399828 ],\n",
              "       [0.5672448 ],\n",
              "       [0.45284623],\n",
              "       [0.49518776],\n",
              "       [0.46252477],\n",
              "       [0.43518943],\n",
              "       [0.5930216 ],\n",
              "       [0.5858232 ],\n",
              "       [0.5795622 ],\n",
              "       [0.4433335 ],\n",
              "       [0.576037  ],\n",
              "       [0.57785857],\n",
              "       [0.48310834],\n",
              "       [0.4295274 ],\n",
              "       [0.5082173 ],\n",
              "       [0.6038297 ],\n",
              "       [0.573229  ],\n",
              "       [0.48438817],\n",
              "       [0.55167353],\n",
              "       [0.5899928 ],\n",
              "       [0.44410795],\n",
              "       [0.60552824],\n",
              "       [0.55004877],\n",
              "       [0.5597537 ],\n",
              "       [0.5446549 ],\n",
              "       [0.43459952],\n",
              "       [0.5722039 ],\n",
              "       [0.6044376 ],\n",
              "       [0.6064046 ],\n",
              "       [0.4215405 ],\n",
              "       [0.5887977 ],\n",
              "       [0.43178928],\n",
              "       [0.4461761 ],\n",
              "       [0.56055653],\n",
              "       [0.45600873],\n",
              "       [0.502774  ],\n",
              "       [0.46190023],\n",
              "       [0.5709068 ],\n",
              "       [0.57196283],\n",
              "       [0.44012332],\n",
              "       [0.5451927 ],\n",
              "       [0.55895996],\n",
              "       [0.58091813],\n",
              "       [0.45089036],\n",
              "       [0.60537726],\n",
              "       [0.5702265 ],\n",
              "       [0.44843864],\n",
              "       [0.56550264],\n",
              "       [0.5305534 ],\n",
              "       [0.44509506],\n",
              "       [0.55943257],\n",
              "       [0.4652995 ],\n",
              "       [0.56616473],\n",
              "       [0.44893146],\n",
              "       [0.45063418],\n",
              "       [0.45997763],\n",
              "       [0.56771225],\n",
              "       [0.5146602 ],\n",
              "       [0.42835397],\n",
              "       [0.44225764],\n",
              "       [0.56345826],\n",
              "       [0.5868783 ],\n",
              "       [0.6017542 ],\n",
              "       [0.47482848],\n",
              "       [0.5492997 ],\n",
              "       [0.5819169 ],\n",
              "       [0.45951897],\n",
              "       [0.45477897],\n",
              "       [0.495418  ],\n",
              "       [0.5961413 ],\n",
              "       [0.5459161 ],\n",
              "       [0.5849879 ],\n",
              "       [0.5124963 ],\n",
              "       [0.57175064],\n",
              "       [0.43161047],\n",
              "       [0.45342243],\n",
              "       [0.59047556],\n",
              "       [0.47323936],\n",
              "       [0.57383883],\n",
              "       [0.56803745],\n",
              "       [0.56407106],\n",
              "       [0.56599516],\n",
              "       [0.5518931 ],\n",
              "       [0.4517513 ],\n",
              "       [0.45115334],\n",
              "       [0.60050225],\n",
              "       [0.43957496],\n",
              "       [0.5244433 ],\n",
              "       [0.42547882],\n",
              "       [0.48334605],\n",
              "       [0.46603012],\n",
              "       [0.5719622 ],\n",
              "       [0.45306742],\n",
              "       [0.44018406],\n",
              "       [0.45223725],\n",
              "       [0.5571853 ],\n",
              "       [0.48242462],\n",
              "       [0.5297893 ],\n",
              "       [0.5723123 ],\n",
              "       [0.49242008],\n",
              "       [0.50231034],\n",
              "       [0.44893545],\n",
              "       [0.52671653],\n",
              "       [0.5348222 ],\n",
              "       [0.5310008 ],\n",
              "       [0.59034985],\n",
              "       [0.5898646 ],\n",
              "       [0.59862757],\n",
              "       [0.47354996],\n",
              "       [0.4793198 ],\n",
              "       [0.48668355],\n",
              "       [0.59427935],\n",
              "       [0.58013874],\n",
              "       [0.45661318],\n",
              "       [0.48124826],\n",
              "       [0.4903593 ],\n",
              "       [0.44044048],\n",
              "       [0.5810576 ],\n",
              "       [0.544465  ],\n",
              "       [0.50782984],\n",
              "       [0.5921747 ],\n",
              "       [0.5729604 ],\n",
              "       [0.5235191 ],\n",
              "       [0.5871057 ],\n",
              "       [0.42352074],\n",
              "       [0.50372577],\n",
              "       [0.45789206],\n",
              "       [0.60154307],\n",
              "       [0.4422896 ],\n",
              "       [0.537732  ],\n",
              "       [0.4382277 ],\n",
              "       [0.5591393 ],\n",
              "       [0.49126762],\n",
              "       [0.6011056 ],\n",
              "       [0.44906992],\n",
              "       [0.55825835],\n",
              "       [0.57399434],\n",
              "       [0.4401453 ],\n",
              "       [0.54923815],\n",
              "       [0.57193214],\n",
              "       [0.49513978],\n",
              "       [0.58565474],\n",
              "       [0.5865513 ],\n",
              "       [0.5546644 ],\n",
              "       [0.53211147],\n",
              "       [0.585078  ],\n",
              "       [0.5170063 ],\n",
              "       [0.43060952],\n",
              "       [0.45569313],\n",
              "       [0.4875061 ],\n",
              "       [0.47404486],\n",
              "       [0.5515782 ],\n",
              "       [0.49808103],\n",
              "       [0.60261863],\n",
              "       [0.5844504 ],\n",
              "       [0.46884972],\n",
              "       [0.46725404],\n",
              "       [0.59852153],\n",
              "       [0.43681252],\n",
              "       [0.5495414 ],\n",
              "       [0.45322263],\n",
              "       [0.5502509 ],\n",
              "       [0.42786914],\n",
              "       [0.58830184],\n",
              "       [0.44354504],\n",
              "       [0.5354505 ],\n",
              "       [0.44354433],\n",
              "       [0.57871264],\n",
              "       [0.50920314],\n",
              "       [0.42647684],\n",
              "       [0.57380426],\n",
              "       [0.5759052 ],\n",
              "       [0.45304376],\n",
              "       [0.47280878],\n",
              "       [0.4959666 ],\n",
              "       [0.44941378],\n",
              "       [0.5093585 ],\n",
              "       [0.51950645],\n",
              "       [0.45686668],\n",
              "       [0.59823906],\n",
              "       [0.48517317],\n",
              "       [0.44100964],\n",
              "       [0.4521528 ],\n",
              "       [0.6047021 ],\n",
              "       [0.56692004],\n",
              "       [0.600744  ],\n",
              "       [0.54407537],\n",
              "       [0.49718696],\n",
              "       [0.4624759 ],\n",
              "       [0.49641395],\n",
              "       [0.56799036],\n",
              "       [0.58531195],\n",
              "       [0.58473074],\n",
              "       [0.5434765 ],\n",
              "       [0.5882043 ],\n",
              "       [0.5842571 ],\n",
              "       [0.58479196],\n",
              "       [0.42750192],\n",
              "       [0.42387092],\n",
              "       [0.45771432],\n",
              "       [0.5133135 ],\n",
              "       [0.47346854],\n",
              "       [0.56955826],\n",
              "       [0.60891324],\n",
              "       [0.5936814 ],\n",
              "       [0.50334644],\n",
              "       [0.5795504 ],\n",
              "       [0.4361778 ],\n",
              "       [0.59097576],\n",
              "       [0.42759466],\n",
              "       [0.512781  ],\n",
              "       [0.55436176],\n",
              "       [0.55817413],\n",
              "       [0.50759715],\n",
              "       [0.4492467 ],\n",
              "       [0.4461683 ],\n",
              "       [0.44323063],\n",
              "       [0.4540944 ],\n",
              "       [0.50392795],\n",
              "       [0.5286026 ],\n",
              "       [0.60576975],\n",
              "       [0.47493201],\n",
              "       [0.552303  ],\n",
              "       [0.46425205],\n",
              "       [0.43114078],\n",
              "       [0.42091036],\n",
              "       [0.46520162],\n",
              "       [0.53820163],\n",
              "       [0.49705505],\n",
              "       [0.45406276],\n",
              "       [0.5087101 ],\n",
              "       [0.4867987 ],\n",
              "       [0.5539604 ],\n",
              "       [0.592124  ],\n",
              "       [0.45628393],\n",
              "       [0.5219907 ],\n",
              "       [0.53874815],\n",
              "       [0.4461816 ],\n",
              "       [0.56366646],\n",
              "       [0.59732485],\n",
              "       [0.49622416],\n",
              "       [0.4553331 ],\n",
              "       [0.57122916],\n",
              "       [0.5142694 ],\n",
              "       [0.43560934],\n",
              "       [0.45314223],\n",
              "       [0.46061158],\n",
              "       [0.5067224 ],\n",
              "       [0.5885619 ],\n",
              "       [0.5137789 ],\n",
              "       [0.4719774 ],\n",
              "       [0.50692785],\n",
              "       [0.58648866],\n",
              "       [0.60025114],\n",
              "       [0.54407024],\n",
              "       [0.58756703],\n",
              "       [0.43039125],\n",
              "       [0.58491087],\n",
              "       [0.46769953],\n",
              "       [0.5013369 ],\n",
              "       [0.4295596 ],\n",
              "       [0.501832  ],\n",
              "       [0.48290944],\n",
              "       [0.5692969 ],\n",
              "       [0.5828535 ],\n",
              "       [0.465909  ],\n",
              "       [0.5218306 ],\n",
              "       [0.42276025],\n",
              "       [0.6035395 ],\n",
              "       [0.55871296],\n",
              "       [0.44633132],\n",
              "       [0.6060882 ],\n",
              "       [0.44643283],\n",
              "       [0.52167314],\n",
              "       [0.43385285],\n",
              "       [0.44047272],\n",
              "       [0.48778993],\n",
              "       [0.56139594],\n",
              "       [0.53033113],\n",
              "       [0.5849263 ],\n",
              "       [0.58202875],\n",
              "       [0.58550036],\n",
              "       [0.47208464],\n",
              "       [0.55012196],\n",
              "       [0.45580387],\n",
              "       [0.5399484 ],\n",
              "       [0.42495078],\n",
              "       [0.50262564],\n",
              "       [0.6037953 ],\n",
              "       [0.43462873],\n",
              "       [0.5638681 ],\n",
              "       [0.5540552 ],\n",
              "       [0.4606418 ],\n",
              "       [0.5852265 ],\n",
              "       [0.5206338 ],\n",
              "       [0.55415595],\n",
              "       [0.5667703 ],\n",
              "       [0.47678256],\n",
              "       [0.42348087],\n",
              "       [0.55276227]], dtype=float32)"
            ]
          },
          "metadata": {},
          "execution_count": 148
        }
      ]
    },
    {
      "cell_type": "code",
      "source": [
        "def plot_decision_boundary(model,X,y):\n",
        "  \"\"\"\n",
        "  Plots the decision boundary created by a model predicting X\n",
        "  CS231n : https://cs231n.github.io/neural-networks-case-study/\n",
        "  Made with ML :\n",
        "  \"\"\"\n",
        "  # Define the axis boundaries of the plot and create a meshgrid\n",
        "  x_min , x_max =  X[:,0].min() - 0.1,X[:,0].max()+0.1\n",
        "  y_min,y_max =  X[:,1].min() - 0.1,X[:,1].max()+0.1\n",
        "  xx,yy = np.meshgrid(np.linspace(x_min,x_max,100),\n",
        "                      np.linspace(y_min,y_max,100))\n",
        "  # Create X value (we're going to make predictions on these)\n",
        "\n",
        "  x_in = np.c_[xx.ravel(),yy.ravel()] # Stack 2D arrays together\n",
        "\n",
        "  # Make predictions\n",
        "  y_pred = model.predict(x_in)\n",
        "\n",
        "  # Check for multi-class\n",
        "  if len(y_pred[0]) > 1:\n",
        "    print(\"Doing multiclass classification\")\n",
        "    # We have to reshape our prefiction to get them ready for plotting\n",
        "    y_pred = np.argmax(y_pred,axis=1).reshape(xx.shape)\n",
        "  else:\n",
        "    print(\"doing binary classification\")\n",
        "    y_pred = np.round(y_pred).reshape(xx.shape)\n",
        "\n",
        "  # Plot the decision boundary\n",
        "  plt.contourf(xx,yy,y_pred,cmap=plt.cm.RdYlBu,alpha=0.7)\n",
        "  plt.scatter(X[:,0],X[:,1],c=y,s=40,cmap=plt.cm.RdYlBu)\n",
        "  plt.xlim(xx.min(),xx.max())\n",
        "  plt.ylim(yy.min(),yy.max())\n"
      ],
      "metadata": {
        "id": "wcOxJTYRThMq"
      },
      "execution_count": null,
      "outputs": []
    },
    {
      "cell_type": "code",
      "source": [
        "# Check out the predictions our model is making\n",
        "plot_decision_boundary(model=model_3,\n",
        "                       X=X,\n",
        "                       y=y)"
      ],
      "metadata": {
        "colab": {
          "base_uri": "https://localhost:8080/",
          "height": 465
        },
        "id": "xYUC7Rt_5D13",
        "outputId": "80f55900-e5fa-4db0-adc4-e5fb7dd85316"
      },
      "execution_count": null,
      "outputs": [
        {
          "output_type": "stream",
          "name": "stdout",
          "text": [
            "313/313 [==============================] - 0s 1ms/step\n",
            "doing binary classification\n"
          ]
        },
        {
          "output_type": "display_data",
          "data": {
            "text/plain": [
              "<Figure size 640x480 with 1 Axes>"
            ],
            "image/png": "[encoded data removed]"
          },
          "metadata": {}
        }
      ]
    },
    {
      "cell_type": "code",
      "source": [
        "  x_min , x_max =  X[:,0].min() - 0.1,X[:,0].max()+0.1\n",
        "  y_min,y_max =  X[:,1].min() - 0.1,X[:,1].max()+0.1\n",
        "\n",
        "  x_min,x_max,y_min,y_max\n"
      ],
      "metadata": {
        "colab": {
          "base_uri": "https://localhost:8080/"
        },
        "id": "aRDIuOaHUfm6",
        "outputId": "337276fa-7280-4298-8e22-54051886d1af"
      },
      "execution_count": null,
      "outputs": [
        {
          "output_type": "execute_result",
          "data": {
            "text/plain": [
              "(-1.1595024599098636,\n",
              " 1.1337117525463374,\n",
              " -1.1677683182718437,\n",
              " 1.1360036756154805)"
            ]
          },
          "metadata": {},
          "execution_count": 151
        }
      ]
    },
    {
      "cell_type": "code",
      "source": [
        "# Let's seee if our model can be used for regression problem\n",
        "\n",
        "tf.random.set_seed(42)\n",
        "\n",
        "X_regression = tf.range(0,1000,5)\n",
        "y_regression = tf.range(100,1100,5) # y=X+10\n",
        "\n",
        "# Train-test split\n",
        "X_reg_train =np.expand_dims(X_regression[:150],axis=1)\n",
        "X_reg_test = np.expand_dims(X_regression[150:],axis=1)\n",
        "\n",
        "y_reg_train = np.expand_dims(y_regression[:150],axis=1)\n",
        "y_reg_test = np.expand_dims(y_regression[150:],axis=1)\n",
        "\n",
        "# Fit our model to the regression data\n",
        "#model_3.fit(X_reg_train,y_reg_train,epochs=100)"
      ],
      "metadata": {
        "id": "DIF3ECkv_CbR"
      },
      "execution_count": null,
      "outputs": []
    },
    {
      "cell_type": "code",
      "source": [
        "tf.random.set_seed(42)\n",
        "\n",
        "model_4 = tf.keras.Sequential([\n",
        "    tf.keras.layers.Dense(100),\n",
        "    tf.keras.layers.Dense(10),\n",
        "    tf.keras.layers.Dense(1)\n",
        "])\n",
        "\n",
        "model_4.compile(loss=tf.keras.losses.mae,\n",
        "                optimizer = tf.keras.optimizers.Adam(),\n",
        "                metrics =[\"mae\"])\n",
        "\n",
        "model_4.fit(X_reg_train,y_reg_train,epochs=100)"
      ],
      "metadata": {
        "colab": {
          "base_uri": "https://localhost:8080/"
        },
        "id": "EyOiUiC3AC--",
        "outputId": "f3fa12b1-eb95-4aa0-9561-55a0f6d15daf"
      },
      "execution_count": null,
      "outputs": [
        {
          "output_type": "stream",
          "name": "stdout",
          "text": [
            "Epoch 1/100\n",
            "5/5 [==============================] - 1s 6ms/step - loss: 454.6154 - mae: 454.6154\n",
            "Epoch 2/100\n",
            "5/5 [==============================] - 0s 4ms/step - loss: 339.2746 - mae: 339.2746\n",
            "Epoch 3/100\n",
            "5/5 [==============================] - 0s 5ms/step - loss: 229.4585 - mae: 229.4585\n",
            "Epoch 4/100\n",
            "5/5 [==============================] - 0s 4ms/step - loss: 116.4520 - mae: 116.4520\n",
            "Epoch 5/100\n",
            "5/5 [==============================] - 0s 4ms/step - loss: 49.6874 - mae: 49.6874\n",
            "Epoch 6/100\n",
            "5/5 [==============================] - 0s 4ms/step - loss: 80.3848 - mae: 80.3848\n",
            "Epoch 7/100\n",
            "5/5 [==============================] - 0s 5ms/step - loss: 66.9948 - mae: 66.9948\n",
            "Epoch 8/100\n",
            "5/5 [==============================] - 0s 5ms/step - loss: 43.4413 - mae: 43.4413\n",
            "Epoch 9/100\n",
            "5/5 [==============================] - 0s 6ms/step - loss: 48.9240 - mae: 48.9240\n",
            "Epoch 10/100\n",
            "5/5 [==============================] - 0s 4ms/step - loss: 41.7272 - mae: 41.7272\n",
            "Epoch 11/100\n",
            "5/5 [==============================] - 0s 4ms/step - loss: 43.4981 - mae: 43.4981\n",
            "Epoch 12/100\n",
            "5/5 [==============================] - 0s 5ms/step - loss: 42.4809 - mae: 42.4809\n",
            "Epoch 13/100\n",
            "5/5 [==============================] - 0s 6ms/step - loss: 41.7526 - mae: 41.7526\n",
            "Epoch 14/100\n",
            "5/5 [==============================] - 0s 4ms/step - loss: 41.5335 - mae: 41.5335\n",
            "Epoch 15/100\n",
            "5/5 [==============================] - 0s 4ms/step - loss: 41.5901 - mae: 41.5901\n",
            "Epoch 16/100\n",
            "5/5 [==============================] - 0s 5ms/step - loss: 41.3204 - mae: 41.3204\n",
            "Epoch 17/100\n",
            "5/5 [==============================] - 0s 4ms/step - loss: 41.3091 - mae: 41.3091\n",
            "Epoch 18/100\n",
            "5/5 [==============================] - 0s 4ms/step - loss: 41.1963 - mae: 41.1963\n",
            "Epoch 19/100\n",
            "5/5 [==============================] - 0s 4ms/step - loss: 41.1269 - mae: 41.1269\n",
            "Epoch 20/100\n",
            "5/5 [==============================] - 0s 4ms/step - loss: 41.1025 - mae: 41.1025\n",
            "Epoch 21/100\n",
            "5/5 [==============================] - 0s 5ms/step - loss: 41.2150 - mae: 41.2150\n",
            "Epoch 22/100\n",
            "5/5 [==============================] - 0s 5ms/step - loss: 41.0921 - mae: 41.0921\n",
            "Epoch 23/100\n",
            "5/5 [==============================] - 0s 5ms/step - loss: 41.1059 - mae: 41.1059\n",
            "Epoch 24/100\n",
            "5/5 [==============================] - 0s 6ms/step - loss: 41.0119 - mae: 41.0119\n",
            "Epoch 25/100\n",
            "5/5 [==============================] - 0s 4ms/step - loss: 40.9790 - mae: 40.9790\n",
            "Epoch 26/100\n",
            "5/5 [==============================] - 0s 5ms/step - loss: 40.9594 - mae: 40.9594\n",
            "Epoch 27/100\n",
            "5/5 [==============================] - 0s 4ms/step - loss: 40.8932 - mae: 40.8932\n",
            "Epoch 28/100\n",
            "5/5 [==============================] - 0s 5ms/step - loss: 41.0401 - mae: 41.0401\n",
            "Epoch 29/100\n",
            "5/5 [==============================] - 0s 5ms/step - loss: 40.9843 - mae: 40.9843\n",
            "Epoch 30/100\n",
            "5/5 [==============================] - 0s 4ms/step - loss: 40.8264 - mae: 40.8264\n",
            "Epoch 31/100\n",
            "5/5 [==============================] - 0s 5ms/step - loss: 41.1940 - mae: 41.1940\n",
            "Epoch 32/100\n",
            "5/5 [==============================] - 0s 5ms/step - loss: 40.9605 - mae: 40.9605\n",
            "Epoch 33/100\n",
            "5/5 [==============================] - 0s 4ms/step - loss: 41.1265 - mae: 41.1265\n",
            "Epoch 34/100\n",
            "5/5 [==============================] - 0s 4ms/step - loss: 41.1197 - mae: 41.1197\n",
            "Epoch 35/100\n",
            "5/5 [==============================] - 0s 5ms/step - loss: 40.6094 - mae: 40.6094\n",
            "Epoch 36/100\n",
            "5/5 [==============================] - 0s 5ms/step - loss: 41.0969 - mae: 41.0969\n",
            "Epoch 37/100\n",
            "5/5 [==============================] - 0s 5ms/step - loss: 40.7677 - mae: 40.7677\n",
            "Epoch 38/100\n",
            "5/5 [==============================] - 0s 5ms/step - loss: 40.4607 - mae: 40.4607\n",
            "Epoch 39/100\n",
            "5/5 [==============================] - 0s 4ms/step - loss: 40.7624 - mae: 40.7624\n",
            "Epoch 40/100\n",
            "5/5 [==============================] - 0s 4ms/step - loss: 40.5080 - mae: 40.5080\n",
            "Epoch 41/100\n",
            "5/5 [==============================] - 0s 5ms/step - loss: 40.4405 - mae: 40.4405\n",
            "Epoch 42/100\n",
            "5/5 [==============================] - 0s 6ms/step - loss: 40.3806 - mae: 40.3806\n",
            "Epoch 43/100\n",
            "5/5 [==============================] - 0s 4ms/step - loss: 40.5295 - mae: 40.5295\n",
            "Epoch 44/100\n",
            "5/5 [==============================] - 0s 4ms/step - loss: 40.2634 - mae: 40.2634\n",
            "Epoch 45/100\n",
            "5/5 [==============================] - 0s 4ms/step - loss: 40.4756 - mae: 40.4756\n",
            "Epoch 46/100\n",
            "5/5 [==============================] - 0s 4ms/step - loss: 40.3718 - mae: 40.3718\n",
            "Epoch 47/100\n",
            "5/5 [==============================] - 0s 4ms/step - loss: 40.4578 - mae: 40.4578\n",
            "Epoch 48/100\n",
            "5/5 [==============================] - 0s 4ms/step - loss: 40.1585 - mae: 40.1585\n",
            "Epoch 49/100\n",
            "5/5 [==============================] - 0s 4ms/step - loss: 40.7057 - mae: 40.7057\n",
            "Epoch 50/100\n",
            "5/5 [==============================] - 0s 5ms/step - loss: 40.1543 - mae: 40.1543\n",
            "Epoch 51/100\n",
            "5/5 [==============================] - 0s 5ms/step - loss: 40.2713 - mae: 40.2713\n",
            "Epoch 52/100\n",
            "5/5 [==============================] - 0s 4ms/step - loss: 40.6088 - mae: 40.6088\n",
            "Epoch 53/100\n",
            "5/5 [==============================] - 0s 5ms/step - loss: 40.6341 - mae: 40.6341\n",
            "Epoch 54/100\n",
            "5/5 [==============================] - 0s 5ms/step - loss: 40.6495 - mae: 40.6495\n",
            "Epoch 55/100\n",
            "5/5 [==============================] - 0s 4ms/step - loss: 41.2667 - mae: 41.2667\n",
            "Epoch 56/100\n",
            "5/5 [==============================] - 0s 4ms/step - loss: 41.8107 - mae: 41.8107\n",
            "Epoch 57/100\n",
            "5/5 [==============================] - 0s 6ms/step - loss: 40.7646 - mae: 40.7646\n",
            "Epoch 58/100\n",
            "5/5 [==============================] - 0s 5ms/step - loss: 40.4913 - mae: 40.4913\n",
            "Epoch 59/100\n",
            "5/5 [==============================] - 0s 6ms/step - loss: 40.5465 - mae: 40.5465\n",
            "Epoch 60/100\n",
            "5/5 [==============================] - 0s 6ms/step - loss: 40.1346 - mae: 40.1346\n",
            "Epoch 61/100\n",
            "5/5 [==============================] - 0s 4ms/step - loss: 40.1982 - mae: 40.1982\n",
            "Epoch 62/100\n",
            "5/5 [==============================] - 0s 5ms/step - loss: 40.7302 - mae: 40.7302\n",
            "Epoch 63/100\n",
            "5/5 [==============================] - 0s 4ms/step - loss: 39.7309 - mae: 39.7309\n",
            "Epoch 64/100\n",
            "5/5 [==============================] - 0s 4ms/step - loss: 40.2307 - mae: 40.2307\n",
            "Epoch 65/100\n",
            "5/5 [==============================] - 0s 4ms/step - loss: 39.6463 - mae: 39.6463\n",
            "Epoch 66/100\n",
            "5/5 [==============================] - 0s 4ms/step - loss: 40.4273 - mae: 40.4273\n",
            "Epoch 67/100\n",
            "5/5 [==============================] - 0s 4ms/step - loss: 39.5602 - mae: 39.5602\n",
            "Epoch 68/100\n",
            "5/5 [==============================] - 0s 4ms/step - loss: 39.7243 - mae: 39.7243\n",
            "Epoch 69/100\n",
            "5/5 [==============================] - 0s 5ms/step - loss: 39.9004 - mae: 39.9004\n",
            "Epoch 70/100\n",
            "5/5 [==============================] - 0s 4ms/step - loss: 40.0982 - mae: 40.0982\n",
            "Epoch 71/100\n",
            "5/5 [==============================] - 0s 4ms/step - loss: 39.9921 - mae: 39.9921\n",
            "Epoch 72/100\n",
            "5/5 [==============================] - 0s 4ms/step - loss: 39.2957 - mae: 39.2957\n",
            "Epoch 73/100\n",
            "5/5 [==============================] - 0s 5ms/step - loss: 39.7032 - mae: 39.7032\n",
            "Epoch 74/100\n",
            "5/5 [==============================] - 0s 5ms/step - loss: 39.6482 - mae: 39.6482\n",
            "Epoch 75/100\n",
            "5/5 [==============================] - 0s 5ms/step - loss: 39.4649 - mae: 39.4649\n",
            "Epoch 76/100\n",
            "5/5 [==============================] - 0s 4ms/step - loss: 39.1697 - mae: 39.1697\n",
            "Epoch 77/100\n",
            "5/5 [==============================] - 0s 5ms/step - loss: 39.2908 - mae: 39.2908\n",
            "Epoch 78/100\n",
            "5/5 [==============================] - 0s 5ms/step - loss: 39.5042 - mae: 39.5042\n",
            "Epoch 79/100\n",
            "5/5 [==============================] - 0s 4ms/step - loss: 39.0486 - mae: 39.0486\n",
            "Epoch 80/100\n",
            "5/5 [==============================] - 0s 5ms/step - loss: 39.0195 - mae: 39.0195\n",
            "Epoch 81/100\n",
            "5/5 [==============================] - 0s 4ms/step - loss: 39.0957 - mae: 39.0957\n",
            "Epoch 82/100\n",
            "5/5 [==============================] - 0s 4ms/step - loss: 38.8514 - mae: 38.8514\n",
            "Epoch 83/100\n",
            "5/5 [==============================] - 0s 4ms/step - loss: 39.1778 - mae: 39.1778\n",
            "Epoch 84/100\n",
            "5/5 [==============================] - 0s 5ms/step - loss: 38.8708 - mae: 38.8708\n",
            "Epoch 85/100\n",
            "5/5 [==============================] - 0s 4ms/step - loss: 38.9577 - mae: 38.9577\n",
            "Epoch 86/100\n",
            "5/5 [==============================] - 0s 4ms/step - loss: 38.7416 - mae: 38.7416\n",
            "Epoch 87/100\n",
            "5/5 [==============================] - 0s 4ms/step - loss: 38.7434 - mae: 38.7434\n",
            "Epoch 88/100\n",
            "5/5 [==============================] - 0s 5ms/step - loss: 38.7689 - mae: 38.7689\n",
            "Epoch 89/100\n",
            "5/5 [==============================] - 0s 5ms/step - loss: 38.6083 - mae: 38.6083\n",
            "Epoch 90/100\n",
            "5/5 [==============================] - 0s 4ms/step - loss: 38.4191 - mae: 38.4191\n",
            "Epoch 91/100\n",
            "5/5 [==============================] - 0s 4ms/step - loss: 38.6008 - mae: 38.6008\n",
            "Epoch 92/100\n",
            "5/5 [==============================] - 0s 4ms/step - loss: 38.4972 - mae: 38.4972\n",
            "Epoch 93/100\n",
            "5/5 [==============================] - 0s 4ms/step - loss: 38.9989 - mae: 38.9989\n",
            "Epoch 94/100\n",
            "5/5 [==============================] - 0s 4ms/step - loss: 38.2983 - mae: 38.2983\n",
            "Epoch 95/100\n",
            "5/5 [==============================] - 0s 4ms/step - loss: 38.2980 - mae: 38.2980\n",
            "Epoch 96/100\n",
            "5/5 [==============================] - 0s 4ms/step - loss: 38.6050 - mae: 38.6050\n",
            "Epoch 97/100\n",
            "5/5 [==============================] - 0s 7ms/step - loss: 38.2974 - mae: 38.2974\n",
            "Epoch 98/100\n",
            "5/5 [==============================] - 0s 5ms/step - loss: 38.5555 - mae: 38.5555\n",
            "Epoch 99/100\n",
            "5/5 [==============================] - 0s 4ms/step - loss: 38.6335 - mae: 38.6335\n",
            "Epoch 100/100\n",
            "5/5 [==============================] - 0s 5ms/step - loss: 38.0251 - mae: 38.0251\n"
          ]
        },
        {
          "output_type": "execute_result",
          "data": {
            "text/plain": [
              "<keras.src.callbacks.History at 0x79f2f2b60070>"
            ]
          },
          "metadata": {},
          "execution_count": 153
        }
      ]
    },
    {
      "cell_type": "code",
      "source": [
        "# Make predictions with our trained model\n",
        "y_reg_preds = model_4.predict(X_reg_test)\n",
        "\n",
        "# Plot the model's prediction against our regression data\n",
        "plt.figure(figsize=(10,7))\n",
        "plt.scatter(X_reg_train,y_reg_train,c=\"b\",label=\"Training Data\")\n",
        "plt.scatter(X_reg_test,y_reg_test,c=\"g\",label=\"Test Data\")\n",
        "plt.scatter(X_reg_test,y_reg_preds,c=\"r\",label=\"Predictions\")\n",
        "plt.legend();"
      ],
      "metadata": {
        "colab": {
          "base_uri": "https://localhost:8080/",
          "height": 481
        },
        "id": "pYFN5VXYCiZ7",
        "outputId": "839b391e-f9f7-4e99-dd97-163099cdd1e7"
      },
      "execution_count": null,
      "outputs": [
        {
          "output_type": "stream",
          "name": "stdout",
          "text": [
            "2/2 [==============================] - 0s 6ms/step\n"
          ]
        },
        {
          "output_type": "display_data",
          "data": {
            "text/plain": [
              "<Figure size 1000x700 with 1 Axes>"
            ],
            "image/png": "[encoded data removed]"
          },
          "metadata": {}
        }
      ]
    },
    {
      "cell_type": "markdown",
      "source": [
        "\n",
        "### The main problem with using the same model for classification problem is the data distribution which is not linea whilst for regression problem the data distributed is a straight line.\n",
        "\n",
        "* Hence the missing piece is: **Non-Linearity**"
      ],
      "metadata": {
        "id": "_E27SANRDkNB"
      }
    },
    {
      "cell_type": "code",
      "source": [
        "# Model using non-linear activations\n",
        "tf.random.set_seed(42)\n",
        "\n",
        "model_5 = tf.keras.Sequential([\n",
        "    tf.keras.layers.Dense(4,activation=\"relu\"),\n",
        "    tf.keras.layers.Dense(4,activation=\"relu\"),\n",
        "    tf.keras.layers.Dense(1,activation=\"sigmoid\")\n",
        "])\n",
        "\n",
        "model_5.compile(loss=\"binary_crossentropy\",\n",
        "                optimizer=tf.keras.optimizers.Adam(lr=0.001),\n",
        "                metrics = [\"accuracy\"])\n",
        "\n",
        "history = model_5.fit(X,y,epochs=100)"
      ],
      "metadata": {
        "colab": {
          "base_uri": "https://localhost:8080/"
        },
        "id": "nnM4xCkWjcfn",
        "outputId": "78463f4e-826e-4738-8bf7-9cdbb72361cb"
      },
      "execution_count": null,
      "outputs": [
        {
          "output_type": "stream",
          "name": "stderr",
          "text": [
            "WARNING:absl:`lr` is deprecated in Keras optimizer, please use `learning_rate` or use the legacy optimizer, e.g.,tf.keras.optimizers.legacy.Adam.\n"
          ]
        },
        {
          "output_type": "stream",
          "name": "stdout",
          "text": [
            "Epoch 1/100\n",
            "32/32 [==============================] - 1s 2ms/step - loss: 0.7011 - accuracy: 0.5000\n",
            "Epoch 2/100\n",
            "32/32 [==============================] - 0s 2ms/step - loss: 0.6991 - accuracy: 0.4990\n",
            "Epoch 3/100\n",
            "32/32 [==============================] - 0s 2ms/step - loss: 0.6977 - accuracy: 0.4950\n",
            "Epoch 4/100\n",
            "32/32 [==============================] - 0s 2ms/step - loss: 0.6966 - accuracy: 0.4950\n",
            "Epoch 5/100\n",
            "32/32 [==============================] - 0s 2ms/step - loss: 0.6958 - accuracy: 0.4920\n",
            "Epoch 6/100\n",
            "32/32 [==============================] - 0s 2ms/step - loss: 0.6952 - accuracy: 0.4780\n",
            "Epoch 7/100\n",
            "32/32 [==============================] - 0s 2ms/step - loss: 0.6945 - accuracy: 0.4810\n",
            "Epoch 8/100\n",
            "32/32 [==============================] - 0s 2ms/step - loss: 0.6940 - accuracy: 0.4840\n",
            "Epoch 9/100\n",
            "32/32 [==============================] - 0s 2ms/step - loss: 0.6935 - accuracy: 0.4810\n",
            "Epoch 10/100\n",
            "32/32 [==============================] - 0s 2ms/step - loss: 0.6930 - accuracy: 0.4780\n",
            "Epoch 11/100\n",
            "32/32 [==============================] - 0s 2ms/step - loss: 0.6926 - accuracy: 0.4810\n",
            "Epoch 12/100\n",
            "32/32 [==============================] - 0s 2ms/step - loss: 0.6922 - accuracy: 0.4980\n",
            "Epoch 13/100\n",
            "32/32 [==============================] - 0s 2ms/step - loss: 0.6918 - accuracy: 0.5080\n",
            "Epoch 14/100\n",
            "32/32 [==============================] - 0s 2ms/step - loss: 0.6914 - accuracy: 0.5090\n",
            "Epoch 15/100\n",
            "32/32 [==============================] - 0s 2ms/step - loss: 0.6910 - accuracy: 0.5100\n",
            "Epoch 16/100\n",
            "32/32 [==============================] - 0s 2ms/step - loss: 0.6907 - accuracy: 0.5140\n",
            "Epoch 17/100\n",
            "32/32 [==============================] - 0s 2ms/step - loss: 0.6904 - accuracy: 0.5210\n",
            "Epoch 18/100\n",
            "32/32 [==============================] - 0s 2ms/step - loss: 0.6901 - accuracy: 0.5180\n",
            "Epoch 19/100\n",
            "32/32 [==============================] - 0s 2ms/step - loss: 0.6898 - accuracy: 0.5170\n",
            "Epoch 20/100\n",
            "32/32 [==============================] - 0s 2ms/step - loss: 0.6894 - accuracy: 0.5140\n",
            "Epoch 21/100\n",
            "32/32 [==============================] - 0s 2ms/step - loss: 0.6890 - accuracy: 0.5160\n",
            "Epoch 22/100\n",
            "32/32 [==============================] - 0s 2ms/step - loss: 0.6885 - accuracy: 0.5270\n",
            "Epoch 23/100\n",
            "32/32 [==============================] - 0s 2ms/step - loss: 0.6881 - accuracy: 0.5310\n",
            "Epoch 24/100\n",
            "32/32 [==============================] - 0s 2ms/step - loss: 0.6878 - accuracy: 0.5480\n",
            "Epoch 25/100\n",
            "32/32 [==============================] - 0s 2ms/step - loss: 0.6874 - accuracy: 0.5600\n",
            "Epoch 26/100\n",
            "32/32 [==============================] - 0s 2ms/step - loss: 0.6868 - accuracy: 0.5700\n",
            "Epoch 27/100\n",
            "32/32 [==============================] - 0s 2ms/step - loss: 0.6864 - accuracy: 0.5710\n",
            "Epoch 28/100\n",
            "32/32 [==============================] - 0s 2ms/step - loss: 0.6858 - accuracy: 0.5720\n",
            "Epoch 29/100\n",
            "32/32 [==============================] - 0s 2ms/step - loss: 0.6854 - accuracy: 0.5440\n",
            "Epoch 30/100\n",
            "32/32 [==============================] - 0s 2ms/step - loss: 0.6849 - accuracy: 0.5450\n",
            "Epoch 31/100\n",
            "32/32 [==============================] - 0s 2ms/step - loss: 0.6844 - accuracy: 0.5410\n",
            "Epoch 32/100\n",
            "32/32 [==============================] - 0s 2ms/step - loss: 0.6839 - accuracy: 0.5410\n",
            "Epoch 33/100\n",
            "32/32 [==============================] - 0s 2ms/step - loss: 0.6833 - accuracy: 0.5380\n",
            "Epoch 34/100\n",
            "32/32 [==============================] - 0s 2ms/step - loss: 0.6828 - accuracy: 0.5310\n",
            "Epoch 35/100\n",
            "32/32 [==============================] - 0s 2ms/step - loss: 0.6821 - accuracy: 0.5380\n",
            "Epoch 36/100\n",
            "32/32 [==============================] - 0s 2ms/step - loss: 0.6814 - accuracy: 0.5350\n",
            "Epoch 37/100\n",
            "32/32 [==============================] - 0s 2ms/step - loss: 0.6807 - accuracy: 0.5350\n",
            "Epoch 38/100\n",
            "32/32 [==============================] - 0s 2ms/step - loss: 0.6801 - accuracy: 0.5370\n",
            "Epoch 39/100\n",
            "32/32 [==============================] - 0s 2ms/step - loss: 0.6793 - accuracy: 0.5380\n",
            "Epoch 40/100\n",
            "32/32 [==============================] - 0s 2ms/step - loss: 0.6787 - accuracy: 0.5380\n",
            "Epoch 41/100\n",
            "32/32 [==============================] - 0s 2ms/step - loss: 0.6779 - accuracy: 0.5390\n",
            "Epoch 42/100\n",
            "32/32 [==============================] - 0s 2ms/step - loss: 0.6771 - accuracy: 0.5350\n",
            "Epoch 43/100\n",
            "32/32 [==============================] - 0s 2ms/step - loss: 0.6764 - accuracy: 0.5340\n",
            "Epoch 44/100\n",
            "32/32 [==============================] - 0s 2ms/step - loss: 0.6755 - accuracy: 0.5330\n",
            "Epoch 45/100\n",
            "32/32 [==============================] - 0s 2ms/step - loss: 0.6744 - accuracy: 0.5340\n",
            "Epoch 46/100\n",
            "32/32 [==============================] - 0s 2ms/step - loss: 0.6735 - accuracy: 0.5340\n",
            "Epoch 47/100\n",
            "32/32 [==============================] - 0s 2ms/step - loss: 0.6728 - accuracy: 0.5390\n",
            "Epoch 48/100\n",
            "32/32 [==============================] - 0s 2ms/step - loss: 0.6716 - accuracy: 0.5370\n",
            "Epoch 49/100\n",
            "32/32 [==============================] - 0s 2ms/step - loss: 0.6706 - accuracy: 0.5410\n",
            "Epoch 50/100\n",
            "32/32 [==============================] - 0s 2ms/step - loss: 0.6695 - accuracy: 0.5420\n",
            "Epoch 51/100\n",
            "32/32 [==============================] - 0s 2ms/step - loss: 0.6684 - accuracy: 0.5410\n",
            "Epoch 52/100\n",
            "32/32 [==============================] - 0s 2ms/step - loss: 0.6673 - accuracy: 0.5490\n",
            "Epoch 53/100\n",
            "32/32 [==============================] - 0s 2ms/step - loss: 0.6662 - accuracy: 0.5560\n",
            "Epoch 54/100\n",
            "32/32 [==============================] - 0s 2ms/step - loss: 0.6648 - accuracy: 0.5550\n",
            "Epoch 55/100\n",
            "32/32 [==============================] - 0s 2ms/step - loss: 0.6639 - accuracy: 0.5830\n",
            "Epoch 56/100\n",
            "32/32 [==============================] - 0s 2ms/step - loss: 0.6625 - accuracy: 0.5730\n",
            "Epoch 57/100\n",
            "32/32 [==============================] - 0s 2ms/step - loss: 0.6611 - accuracy: 0.5830\n",
            "Epoch 58/100\n",
            "32/32 [==============================] - 0s 2ms/step - loss: 0.6599 - accuracy: 0.5920\n",
            "Epoch 59/100\n",
            "32/32 [==============================] - 0s 2ms/step - loss: 0.6592 - accuracy: 0.6100\n",
            "Epoch 60/100\n",
            "32/32 [==============================] - 0s 2ms/step - loss: 0.6573 - accuracy: 0.5980\n",
            "Epoch 61/100\n",
            "32/32 [==============================] - 0s 2ms/step - loss: 0.6561 - accuracy: 0.5870\n",
            "Epoch 62/100\n",
            "32/32 [==============================] - 0s 2ms/step - loss: 0.6546 - accuracy: 0.5930\n",
            "Epoch 63/100\n",
            "32/32 [==============================] - 0s 2ms/step - loss: 0.6533 - accuracy: 0.6040\n",
            "Epoch 64/100\n",
            "32/32 [==============================] - 0s 3ms/step - loss: 0.6521 - accuracy: 0.5990\n",
            "Epoch 65/100\n",
            "32/32 [==============================] - 0s 2ms/step - loss: 0.6508 - accuracy: 0.6050\n",
            "Epoch 66/100\n",
            "32/32 [==============================] - 0s 2ms/step - loss: 0.6496 - accuracy: 0.6120\n",
            "Epoch 67/100\n",
            "32/32 [==============================] - 0s 2ms/step - loss: 0.6482 - accuracy: 0.6060\n",
            "Epoch 68/100\n",
            "32/32 [==============================] - 0s 2ms/step - loss: 0.6468 - accuracy: 0.6070\n",
            "Epoch 69/100\n",
            "32/32 [==============================] - 0s 2ms/step - loss: 0.6457 - accuracy: 0.6160\n",
            "Epoch 70/100\n",
            "32/32 [==============================] - 0s 2ms/step - loss: 0.6443 - accuracy: 0.6140\n",
            "Epoch 71/100\n",
            "32/32 [==============================] - 0s 2ms/step - loss: 0.6430 - accuracy: 0.6120\n",
            "Epoch 72/100\n",
            "32/32 [==============================] - 0s 2ms/step - loss: 0.6419 - accuracy: 0.6150\n",
            "Epoch 73/100\n",
            "32/32 [==============================] - 0s 2ms/step - loss: 0.6406 - accuracy: 0.6090\n",
            "Epoch 74/100\n",
            "32/32 [==============================] - 0s 2ms/step - loss: 0.6396 - accuracy: 0.6150\n",
            "Epoch 75/100\n",
            "32/32 [==============================] - 0s 2ms/step - loss: 0.6382 - accuracy: 0.6100\n",
            "Epoch 76/100\n",
            "32/32 [==============================] - 0s 2ms/step - loss: 0.6373 - accuracy: 0.6090\n",
            "Epoch 77/100\n",
            "32/32 [==============================] - 0s 2ms/step - loss: 0.6359 - accuracy: 0.6210\n",
            "Epoch 78/100\n",
            "32/32 [==============================] - 0s 2ms/step - loss: 0.6347 - accuracy: 0.6120\n",
            "Epoch 79/100\n",
            "32/32 [==============================] - 0s 2ms/step - loss: 0.6337 - accuracy: 0.6150\n",
            "Epoch 80/100\n",
            "32/32 [==============================] - 0s 2ms/step - loss: 0.6322 - accuracy: 0.6220\n",
            "Epoch 81/100\n",
            "32/32 [==============================] - 0s 2ms/step - loss: 0.6310 - accuracy: 0.6230\n",
            "Epoch 82/100\n",
            "32/32 [==============================] - 0s 2ms/step - loss: 0.6299 - accuracy: 0.6240\n",
            "Epoch 83/100\n",
            "32/32 [==============================] - 0s 2ms/step - loss: 0.6288 - accuracy: 0.6210\n",
            "Epoch 84/100\n",
            "32/32 [==============================] - 0s 2ms/step - loss: 0.6274 - accuracy: 0.6280\n",
            "Epoch 85/100\n",
            "32/32 [==============================] - 0s 2ms/step - loss: 0.6263 - accuracy: 0.6290\n",
            "Epoch 86/100\n",
            "32/32 [==============================] - 0s 2ms/step - loss: 0.6253 - accuracy: 0.6340\n",
            "Epoch 87/100\n",
            "32/32 [==============================] - 0s 2ms/step - loss: 0.6238 - accuracy: 0.6320\n",
            "Epoch 88/100\n",
            "32/32 [==============================] - 0s 2ms/step - loss: 0.6229 - accuracy: 0.6300\n",
            "Epoch 89/100\n",
            "32/32 [==============================] - 0s 2ms/step - loss: 0.6217 - accuracy: 0.6340\n",
            "Epoch 90/100\n",
            "32/32 [==============================] - 0s 3ms/step - loss: 0.6209 - accuracy: 0.6260\n",
            "Epoch 91/100\n",
            "32/32 [==============================] - 0s 3ms/step - loss: 0.6193 - accuracy: 0.6360\n",
            "Epoch 92/100\n",
            "32/32 [==============================] - 0s 3ms/step - loss: 0.6184 - accuracy: 0.6430\n",
            "Epoch 93/100\n",
            "32/32 [==============================] - 0s 3ms/step - loss: 0.6171 - accuracy: 0.6360\n",
            "Epoch 94/100\n",
            "32/32 [==============================] - 0s 3ms/step - loss: 0.6159 - accuracy: 0.6400\n",
            "Epoch 95/100\n",
            "32/32 [==============================] - 0s 3ms/step - loss: 0.6147 - accuracy: 0.6380\n",
            "Epoch 96/100\n",
            "32/32 [==============================] - 0s 3ms/step - loss: 0.6135 - accuracy: 0.6400\n",
            "Epoch 97/100\n",
            "32/32 [==============================] - 0s 3ms/step - loss: 0.6125 - accuracy: 0.6350\n",
            "Epoch 98/100\n",
            "32/32 [==============================] - 0s 3ms/step - loss: 0.6113 - accuracy: 0.6390\n",
            "Epoch 99/100\n",
            "32/32 [==============================] - 0s 4ms/step - loss: 0.6103 - accuracy: 0.6510\n",
            "Epoch 100/100\n",
            "32/32 [==============================] - 0s 3ms/step - loss: 0.6091 - accuracy: 0.6490\n"
          ]
        }
      ]
    },
    {
      "cell_type": "code",
      "source": [
        "model_5.evaluate(X,y)"
      ],
      "metadata": {
        "colab": {
          "base_uri": "https://localhost:8080/"
        },
        "id": "JLQVSTPEnZHG",
        "outputId": "00bfea11-dd50-408b-8ff5-87db64dbced9"
      },
      "execution_count": null,
      "outputs": [
        {
          "output_type": "stream",
          "name": "stdout",
          "text": [
            "32/32 [==============================] - 0s 3ms/step - loss: 0.6083 - accuracy: 0.6480\n"
          ]
        },
        {
          "output_type": "execute_result",
          "data": {
            "text/plain": [
              "[0.6083212494850159, 0.6480000019073486]"
            ]
          },
          "metadata": {},
          "execution_count": 156
        }
      ]
    },
    {
      "cell_type": "code",
      "source": [
        "plot_decision_boundary(model_5,X,y)"
      ],
      "metadata": {
        "colab": {
          "base_uri": "https://localhost:8080/",
          "height": 465
        },
        "id": "Z0ftSfJYnhY7",
        "outputId": "50f22e08-5d00-4f1d-dbd2-409b4f2dd85c"
      },
      "execution_count": null,
      "outputs": [
        {
          "output_type": "stream",
          "name": "stdout",
          "text": [
            "313/313 [==============================] - 1s 2ms/step\n",
            "doing binary classification\n"
          ]
        },
        {
          "output_type": "display_data",
          "data": {
            "text/plain": [
              "<Figure size 640x480 with 1 Axes>"
            ],
            "image/png": "[encoded data removed]"
          },
          "metadata": {}
        }
      ]
    },
    {
      "cell_type": "markdown",
      "source": [
        "### The combination of linear and non linear functions is one of the key fundamentals of NN"
      ],
      "metadata": {
        "id": "xKUIsAV7ov0O"
      }
    },
    {
      "cell_type": "code",
      "source": [
        "# Create a toy tensor (Similar to the data we passed into our models)\n",
        "A = tf.cast(tf.range(-10,10),tf.float32)\n",
        "A"
      ],
      "metadata": {
        "colab": {
          "base_uri": "https://localhost:8080/"
        },
        "id": "TgT-Vv6Lo19f",
        "outputId": "912dbaaa-c719-4187-c8bf-d64b581b6107"
      },
      "execution_count": null,
      "outputs": [
        {
          "output_type": "execute_result",
          "data": {
            "text/plain": [
              "<tf.Tensor: shape=(20,), dtype=float32, numpy=\n",
              "array([-10.,  -9.,  -8.,  -7.,  -6.,  -5.,  -4.,  -3.,  -2.,  -1.,   0.,\n",
              "         1.,   2.,   3.,   4.,   5.,   6.,   7.,   8.,   9.],\n",
              "      dtype=float32)>"
            ]
          },
          "metadata": {},
          "execution_count": 158
        }
      ]
    },
    {
      "cell_type": "code",
      "source": [
        "plt.plot(A);"
      ],
      "metadata": {
        "colab": {
          "base_uri": "https://localhost:8080/",
          "height": 430
        },
        "id": "-CXu5GTMpM9q",
        "outputId": "b99405f0-be06-4ffe-84bf-faac0e744cd7"
      },
      "execution_count": null,
      "outputs": [
        {
          "output_type": "display_data",
          "data": {
            "text/plain": [
              "<Figure size 640x480 with 1 Axes>"
            ],
            "image/png": "[encoded data removed]"
          },
          "metadata": {}
        }
      ]
    },
    {
      "cell_type": "code",
      "source": [
        "def sigmoid(x):\n",
        "  return 1/(1+tf.exp(-x))\n"
      ],
      "metadata": {
        "id": "Jgof2mjBpgRd"
      },
      "execution_count": null,
      "outputs": []
    },
    {
      "cell_type": "code",
      "source": [
        "sigmoid(A)"
      ],
      "metadata": {
        "colab": {
          "base_uri": "https://localhost:8080/"
        },
        "id": "zURVLELnp8LA",
        "outputId": "a54f5196-0e1e-4997-c083-550237a6df05"
      },
      "execution_count": null,
      "outputs": [
        {
          "output_type": "execute_result",
          "data": {
            "text/plain": [
              "<tf.Tensor: shape=(20,), dtype=float32, numpy=\n",
              "array([4.5397872e-05, 1.2339458e-04, 3.3535014e-04, 9.1105117e-04,\n",
              "       2.4726233e-03, 6.6928510e-03, 1.7986210e-02, 4.7425874e-02,\n",
              "       1.1920292e-01, 2.6894143e-01, 5.0000000e-01, 7.3105860e-01,\n",
              "       8.8079703e-01, 9.5257413e-01, 9.8201376e-01, 9.9330717e-01,\n",
              "       9.9752742e-01, 9.9908900e-01, 9.9966466e-01, 9.9987662e-01],\n",
              "      dtype=float32)>"
            ]
          },
          "metadata": {},
          "execution_count": 161
        }
      ]
    },
    {
      "cell_type": "code",
      "source": [
        "plt.plot(sigmoid(A));"
      ],
      "metadata": {
        "colab": {
          "base_uri": "https://localhost:8080/",
          "height": 430
        },
        "id": "_pSzdXc9psLf",
        "outputId": "2f3f9782-5d53-475e-cd05-9c8343df68f9"
      },
      "execution_count": null,
      "outputs": [
        {
          "output_type": "display_data",
          "data": {
            "text/plain": [
              "<Figure size 640x480 with 1 Axes>"
            ],
            "image/png": "[encoded data removed]"
          },
          "metadata": {}
        }
      ]
    },
    {
      "cell_type": "code",
      "source": [
        "# ReLU funcion:\n",
        "\n",
        "def ReLU(x):\n",
        "  return tf.maximum(0,x)\n",
        "\n",
        "\n",
        "ReLU(A)"
      ],
      "metadata": {
        "colab": {
          "base_uri": "https://localhost:8080/"
        },
        "id": "lPkXdujAr0U9",
        "outputId": "81d09855-cb99-4a11-c1e2-754dac44b510"
      },
      "execution_count": null,
      "outputs": [
        {
          "output_type": "execute_result",
          "data": {
            "text/plain": [
              "<tf.Tensor: shape=(20,), dtype=float32, numpy=\n",
              "array([0., 0., 0., 0., 0., 0., 0., 0., 0., 0., 0., 1., 2., 3., 4., 5., 6.,\n",
              "       7., 8., 9.], dtype=float32)>"
            ]
          },
          "metadata": {},
          "execution_count": 163
        }
      ]
    },
    {
      "cell_type": "code",
      "source": [
        "plt.plot(ReLU(A));"
      ],
      "metadata": {
        "colab": {
          "base_uri": "https://localhost:8080/",
          "height": 430
        },
        "id": "xZx1zwuTr_mg",
        "outputId": "e4f5c805-cb97-40fd-fdfe-be36bf684f6f"
      },
      "execution_count": null,
      "outputs": [
        {
          "output_type": "display_data",
          "data": {
            "text/plain": [
              "<Figure size 640x480 with 1 Axes>"
            ],
            "image/png": "[encoded data removed]"
          },
          "metadata": {}
        }
      ]
    },
    {
      "cell_type": "markdown",
      "source": [
        "# Evaluating and improving our classification"
      ],
      "metadata": {
        "id": "xW5asp_IskWs"
      }
    },
    {
      "cell_type": "code",
      "source": [
        "# Let's create a train test split using our original data\n",
        "len(X)"
      ],
      "metadata": {
        "colab": {
          "base_uri": "https://localhost:8080/"
        },
        "id": "oT2XdlORsrh2",
        "outputId": "3cecdbd7-c467-40e6-82c5-66475950ac0f"
      },
      "execution_count": null,
      "outputs": [
        {
          "output_type": "execute_result",
          "data": {
            "text/plain": [
              "1000"
            ]
          },
          "metadata": {},
          "execution_count": 165
        }
      ]
    },
    {
      "cell_type": "code",
      "source": [
        "X_train,y_train = X[:800],y[:800]\n",
        "X_test,y_test = X[800:],y[800:]\n",
        "\n",
        "X_train.shape , X_test.shape,y_train.shape,y_test.shape"
      ],
      "metadata": {
        "colab": {
          "base_uri": "https://localhost:8080/"
        },
        "id": "JMX7sK3BtBrA",
        "outputId": "1b19f9e7-074f-4699-e3ee-6aaf1621b7cc"
      },
      "execution_count": null,
      "outputs": [
        {
          "output_type": "execute_result",
          "data": {
            "text/plain": [
              "((800, 2), (200, 2), (800,), (200,))"
            ]
          },
          "metadata": {},
          "execution_count": 166
        }
      ]
    },
    {
      "cell_type": "code",
      "source": [
        "tf.random.set_seed(42)\n",
        "\n",
        "model_6 = tf.keras.Sequential([\n",
        "    tf.keras.layers.Dense(4,activation=\"relu\"),\n",
        "    tf.keras.layers.Dense(4,activation=\"relu\"),\n",
        "    tf.keras.layers.Dense(1,activation=\"sigmoid\")\n",
        "])\n",
        "\n",
        "model_6.compile(loss=\"binary_crossentropy\",\n",
        "                optimizer = tf.keras.optimizers.Adam(lr=0.01),\n",
        "                metrics = [\"accuracy\"])\n",
        "\n",
        "history1 = model_6.fit(X_train,y_train,epochs=25)"
      ],
      "metadata": {
        "colab": {
          "base_uri": "https://localhost:8080/"
        },
        "id": "F4F68uHdtUGR",
        "outputId": "87654e8f-a89a-4873-bfa7-c82864a607a1"
      },
      "execution_count": null,
      "outputs": [
        {
          "output_type": "stream",
          "name": "stderr",
          "text": [
            "WARNING:absl:`lr` is deprecated in Keras optimizer, please use `learning_rate` or use the legacy optimizer, e.g.,tf.keras.optimizers.legacy.Adam.\n"
          ]
        },
        {
          "output_type": "stream",
          "name": "stdout",
          "text": [
            "Epoch 1/25\n",
            "25/25 [==============================] - 1s 2ms/step - loss: 0.7017 - accuracy: 0.4988\n",
            "Epoch 2/25\n",
            "25/25 [==============================] - 0s 2ms/step - loss: 0.6909 - accuracy: 0.5050\n",
            "Epoch 3/25\n",
            "25/25 [==============================] - 0s 2ms/step - loss: 0.6851 - accuracy: 0.5113\n",
            "Epoch 4/25\n",
            "25/25 [==============================] - 0s 2ms/step - loss: 0.6821 - accuracy: 0.5263\n",
            "Epoch 5/25\n",
            "25/25 [==============================] - 0s 2ms/step - loss: 0.6801 - accuracy: 0.5325\n",
            "Epoch 6/25\n",
            "25/25 [==============================] - 0s 2ms/step - loss: 0.6788 - accuracy: 0.5325\n",
            "Epoch 7/25\n",
            "25/25 [==============================] - 0s 2ms/step - loss: 0.6776 - accuracy: 0.5362\n",
            "Epoch 8/25\n",
            "25/25 [==============================] - 0s 2ms/step - loss: 0.6767 - accuracy: 0.5400\n",
            "Epoch 9/25\n",
            "25/25 [==============================] - 0s 2ms/step - loss: 0.6759 - accuracy: 0.5500\n",
            "Epoch 10/25\n",
            "25/25 [==============================] - 0s 2ms/step - loss: 0.6749 - accuracy: 0.5537\n",
            "Epoch 11/25\n",
            "25/25 [==============================] - 0s 2ms/step - loss: 0.6741 - accuracy: 0.5537\n",
            "Epoch 12/25\n",
            "25/25 [==============================] - 0s 2ms/step - loss: 0.6732 - accuracy: 0.5600\n",
            "Epoch 13/25\n",
            "25/25 [==============================] - 0s 2ms/step - loss: 0.6721 - accuracy: 0.5612\n",
            "Epoch 14/25\n",
            "25/25 [==============================] - 0s 2ms/step - loss: 0.6712 - accuracy: 0.5638\n",
            "Epoch 15/25\n",
            "25/25 [==============================] - 0s 2ms/step - loss: 0.6703 - accuracy: 0.5675\n",
            "Epoch 16/25\n",
            "25/25 [==============================] - 0s 2ms/step - loss: 0.6691 - accuracy: 0.5688\n",
            "Epoch 17/25\n",
            "25/25 [==============================] - 0s 2ms/step - loss: 0.6683 - accuracy: 0.5700\n",
            "Epoch 18/25\n",
            "25/25 [==============================] - 0s 2ms/step - loss: 0.6672 - accuracy: 0.5738\n",
            "Epoch 19/25\n",
            "25/25 [==============================] - 0s 2ms/step - loss: 0.6663 - accuracy: 0.5738\n",
            "Epoch 20/25\n",
            "25/25 [==============================] - 0s 3ms/step - loss: 0.6651 - accuracy: 0.5738\n",
            "Epoch 21/25\n",
            "25/25 [==============================] - 0s 2ms/step - loss: 0.6639 - accuracy: 0.5750\n",
            "Epoch 22/25\n",
            "25/25 [==============================] - 0s 2ms/step - loss: 0.6627 - accuracy: 0.5775\n",
            "Epoch 23/25\n",
            "25/25 [==============================] - 0s 2ms/step - loss: 0.6615 - accuracy: 0.5775\n",
            "Epoch 24/25\n",
            "25/25 [==============================] - 0s 2ms/step - loss: 0.6603 - accuracy: 0.5863\n",
            "Epoch 25/25\n",
            "25/25 [==============================] - 0s 2ms/step - loss: 0.6588 - accuracy: 0.5888\n"
          ]
        }
      ]
    },
    {
      "cell_type": "code",
      "source": [],
      "metadata": {
        "id": "F89LETdxthWu"
      },
      "execution_count": null,
      "outputs": []
    }
  ]
}